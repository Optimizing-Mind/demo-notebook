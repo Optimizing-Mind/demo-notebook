{
 "cells": [
  {
   "cell_type": "code",
   "execution_count": 1,
   "metadata": {},
   "outputs": [],
   "source": [
    "import matplotlib.pyplot as plt\n",
    "import numpy as np\n",
    "import os\n",
    "import tensorflow as tf\n",
    "\n",
    "from tensorflow.keras.preprocessing import image_dataset_from_directory\n",
    "from tensorflow import keras\n",
    "import time"
   ]
  },
  {
   "cell_type": "code",
   "execution_count": 2,
   "metadata": {},
   "outputs": [],
   "source": [
    "from datetime import datetime\n",
    "now=datetime.now()\n",
    "date_time=now.strftime(\"%m-%d-%Y\")"
   ]
  },
  {
   "cell_type": "code",
   "execution_count": 3,
   "metadata": {},
   "outputs": [
    {
     "data": {
      "text/plain": [
       "'01-22-2023'"
      ]
     },
     "execution_count": 3,
     "metadata": {},
     "output_type": "execute_result"
    }
   ],
   "source": [
    "date_time"
   ]
  },
  {
   "cell_type": "code",
   "execution_count": 4,
   "metadata": {},
   "outputs": [
    {
     "name": "stdout",
     "output_type": "stream",
     "text": [
      "2.6.2\n"
     ]
    }
   ],
   "source": [
    "print(tf.__version__)"
   ]
  },
  {
   "cell_type": "code",
   "execution_count": 5,
   "metadata": {},
   "outputs": [],
   "source": [
    "BATCH_SIZE =1 #32   #1\n",
    "IMG_SIZE = (160, 160)"
   ]
  },
  {
   "cell_type": "code",
   "execution_count": 6,
   "metadata": {},
   "outputs": [],
   "source": [
    "# I left this because it sets up the directories automatically  \n",
    "_URL = 'https://storage.googleapis.com/mledu-datasets/cats_and_dogs_filtered.zip'\n",
    "path_to_zip = tf.keras.utils.get_file('cats_and_dogs.zip', origin=_URL, extract=True)"
   ]
  },
  {
   "cell_type": "code",
   "execution_count": 7,
   "metadata": {},
   "outputs": [
    {
     "name": "stdout",
     "output_type": "stream",
     "text": [
      "C:\\Users\\Tsvi\\.keras\\datasets\\fowl_data\n"
     ]
    }
   ],
   "source": [
    "# Different datasets to benchmark\n",
    "#dataset_name='Animals_filtered'  # 50 animal dataset\n",
    "dataset_name='cats_and_dogs_filtered'  #originalTF notebook dataset \"full\"\n",
    "#dataset_name='fowl_data' # from https://learn.microsoft.com/en-us/azure/machine-learning/how-to-train-pytorch\n",
    "\n",
    "PATH2 = os.path.join(os.path.dirname(path_to_zip),dataset_name )    \n",
    "# also put in original\n",
    "print(PATH2)"
   ]
  },
  {
   "cell_type": "code",
   "execution_count": 8,
   "metadata": {},
   "outputs": [
    {
     "name": "stdout",
     "output_type": "stream",
     "text": [
      "C:\\Users\\Tsvi\\.keras\\datasets\\fowl_data \n",
      " C:\\Users\\Tsvi\\.keras\\datasets\\fowl_data\\train \n",
      " C:\\Users\\Tsvi\\.keras\\datasets\\fowl_data\\validation\n"
     ]
    }
   ],
   "source": [
    "train_dir = os.path.join(PATH2, 'train')\n",
    "validation_dir = os.path.join(PATH2, 'validation')\n",
    "\n",
    "#print(third_animal_dataset_path,'\\n',third_animal_train_dir,'\\n',third_animal_validation_dir)\n",
    "print(PATH2,'\\n',train_dir,'\\n',validation_dir)"
   ]
  },
  {
   "cell_type": "code",
   "execution_count": 9,
   "metadata": {
    "scrolled": true
   },
   "outputs": [
    {
     "name": "stdout",
     "output_type": "stream",
     "text": [
      "Found 230 files belonging to 2 classes.\n",
      "Found 250 files belonging to 2 classes.\n"
     ]
    }
   ],
   "source": [
    "train_dataset = tf.keras.utils.image_dataset_from_directory(train_dir,\n",
    "                                                                         shuffle=True,\n",
    "                                                                         batch_size=BATCH_SIZE,\n",
    "                                                                         image_size=IMG_SIZE)\n",
    "\n",
    "validation_dataset = tf.keras.utils.image_dataset_from_directory(validation_dir,\n",
    "                                                                              shuffle=True,\n",
    "                                                                              batch_size=BATCH_SIZE,\n",
    "                                                                              image_size=IMG_SIZE)"
   ]
  },
  {
   "cell_type": "code",
   "execution_count": 10,
   "metadata": {},
   "outputs": [
    {
     "name": "stdout",
     "output_type": "stream",
     "text": [
      "Dataset class names: ['chickens', 'turkeys']\n"
     ]
    }
   ],
   "source": [
    "#print(\"original dataset class names:\", train_dataset.class_names)\n",
    "print(\"Dataset class names:\", train_dataset.class_names)"
   ]
  },
  {
   "cell_type": "code",
   "execution_count": 11,
   "metadata": {},
   "outputs": [
    {
     "name": "stdout",
     "output_type": "stream",
     "text": [
      "number of classes and outputs: 2\n"
     ]
    }
   ],
   "source": [
    "class_names = train_dataset.class_names\n",
    "num_outputs=len(class_names)\n",
    "print('number of classes and outputs:',num_outputs)"
   ]
  },
  {
   "cell_type": "code",
   "execution_count": 12,
   "metadata": {},
   "outputs": [],
   "source": [
    "val_batches = tf.data.experimental.cardinality(validation_dataset)\n",
    "test_dataset = validation_dataset.take(val_batches // 5)\n",
    "validation_dataset = validation_dataset.skip(val_batches // 5)"
   ]
  },
  {
   "cell_type": "code",
   "execution_count": 13,
   "metadata": {},
   "outputs": [
    {
     "name": "stdout",
     "output_type": "stream",
     "text": [
      "Number of validation batches: 200\n",
      "Number of test batches: 50\n"
     ]
    }
   ],
   "source": [
    "print('Number of validation batches: %d' % tf.data.experimental.cardinality(validation_dataset))\n",
    "print('Number of test batches: %d' % tf.data.experimental.cardinality(test_dataset))"
   ]
  },
  {
   "cell_type": "code",
   "execution_count": 14,
   "metadata": {},
   "outputs": [
    {
     "name": "stdout",
     "output_type": "stream",
     "text": [
      "Number of training batches: 230\n"
     ]
    }
   ],
   "source": [
    "print('Number of training batches: %d' % tf.data.experimental.cardinality(train_dataset))"
   ]
  },
  {
   "cell_type": "code",
   "execution_count": 15,
   "metadata": {},
   "outputs": [],
   "source": [
    "AUTOTUNE = tf.data.AUTOTUNE\n",
    "\n",
    "train_dataset = train_dataset.prefetch(buffer_size=AUTOTUNE)\n",
    "validation_dataset = validation_dataset.prefetch(buffer_size=AUTOTUNE)\n",
    "test_dataset = test_dataset.prefetch(buffer_size=AUTOTUNE)"
   ]
  },
  {
   "cell_type": "code",
   "execution_count": 16,
   "metadata": {},
   "outputs": [],
   "source": [
    "data_augmentation = tf.keras.Sequential([\n",
    "  tf.keras.layers.experimental.preprocessing.RandomFlip('horizontal'),\n",
    "  tf.keras.layers.experimental.preprocessing.RandomRotation(0.2),\n",
    "])"
   ]
  },
  {
   "cell_type": "code",
   "execution_count": 17,
   "metadata": {},
   "outputs": [],
   "source": [
    "#preprocess_input = tf.keras.applications.mobilenet_v2.preprocess_input"
   ]
  },
  {
   "cell_type": "code",
   "execution_count": 18,
   "metadata": {},
   "outputs": [],
   "source": [
    "rescale = tf.keras.layers.experimental.preprocessing.Rescaling(1./127.5, offset= -1)"
   ]
  },
  {
   "cell_type": "code",
   "execution_count": 19,
   "metadata": {},
   "outputs": [],
   "source": [
    "#Training the model 10 epochs\n",
    "initial_epochs = 1 #10  "
   ]
  },
  {
   "cell_type": "code",
   "execution_count": 20,
   "metadata": {},
   "outputs": [],
   "source": [
    "# Create the base model from the pre-trained model MobileNet V2\n",
    "IMG_SHAPE = IMG_SIZE + (3,)\n",
    "#base_model = tf.keras.applications.MobileNetV2(input_shape=IMG_SHAPE, include_top=False, weights='imagenet')"
   ]
  },
  {
   "cell_type": "code",
   "execution_count": 21,
   "metadata": {},
   "outputs": [],
   "source": [
    "#ResNEt=True #False\n",
    "# MODEL = 'MobileNetV2'\n",
    "MODEL = 'ResNet50'\n"
   ]
  },
  {
   "cell_type": "code",
   "execution_count": 22,
   "metadata": {},
   "outputs": [],
   "source": [
    "if MODEL=='MobileNetV2':\n",
    "    preprocess_input = tf.keras.applications.mobilenet_v2.preprocess_input\n",
    "    base_model = tf.keras.applications.MobileNetV2(input_shape=IMG_SHAPE,\n",
    "                                                include_top=False,\n",
    "                                                weights='imagenet')\n",
    "elif MODEL=='ResNet50':\n",
    "    preprocess_input = tf.keras.applications.resnet50.preprocess_input\n",
    "    base_model = tf.keras.applications.ResNet50(input_shape=IMG_SHAPE,\n",
    "                                                include_top=False,\n",
    "                                                weights='imagenet')\n",
    "else:\n",
    "    error(\"Model Not supported\")\n"
   ]
  },
  {
   "cell_type": "code",
   "execution_count": 23,
   "metadata": {},
   "outputs": [],
   "source": [
    "base_model.trainable = False"
   ]
  },
  {
   "cell_type": "code",
   "execution_count": 24,
   "metadata": {},
   "outputs": [
    {
     "name": "stdout",
     "output_type": "stream",
     "text": [
      "Model: \"resnet50\"\n",
      "__________________________________________________________________________________________________\n",
      "Layer (type)                    Output Shape         Param #     Connected to                     \n",
      "==================================================================================================\n",
      "input_1 (InputLayer)            [(None, 160, 160, 3) 0                                            \n",
      "__________________________________________________________________________________________________\n",
      "conv1_pad (ZeroPadding2D)       (None, 166, 166, 3)  0           input_1[0][0]                    \n",
      "__________________________________________________________________________________________________\n",
      "conv1_conv (Conv2D)             (None, 80, 80, 64)   9472        conv1_pad[0][0]                  \n",
      "__________________________________________________________________________________________________\n",
      "conv1_bn (BatchNormalization)   (None, 80, 80, 64)   256         conv1_conv[0][0]                 \n",
      "__________________________________________________________________________________________________\n",
      "conv1_relu (Activation)         (None, 80, 80, 64)   0           conv1_bn[0][0]                   \n",
      "__________________________________________________________________________________________________\n",
      "pool1_pad (ZeroPadding2D)       (None, 82, 82, 64)   0           conv1_relu[0][0]                 \n",
      "__________________________________________________________________________________________________\n",
      "pool1_pool (MaxPooling2D)       (None, 40, 40, 64)   0           pool1_pad[0][0]                  \n",
      "__________________________________________________________________________________________________\n",
      "conv2_block1_1_conv (Conv2D)    (None, 40, 40, 64)   4160        pool1_pool[0][0]                 \n",
      "__________________________________________________________________________________________________\n",
      "conv2_block1_1_bn (BatchNormali (None, 40, 40, 64)   256         conv2_block1_1_conv[0][0]        \n",
      "__________________________________________________________________________________________________\n",
      "conv2_block1_1_relu (Activation (None, 40, 40, 64)   0           conv2_block1_1_bn[0][0]          \n",
      "__________________________________________________________________________________________________\n",
      "conv2_block1_2_conv (Conv2D)    (None, 40, 40, 64)   36928       conv2_block1_1_relu[0][0]        \n",
      "__________________________________________________________________________________________________\n",
      "conv2_block1_2_bn (BatchNormali (None, 40, 40, 64)   256         conv2_block1_2_conv[0][0]        \n",
      "__________________________________________________________________________________________________\n",
      "conv2_block1_2_relu (Activation (None, 40, 40, 64)   0           conv2_block1_2_bn[0][0]          \n",
      "__________________________________________________________________________________________________\n",
      "conv2_block1_0_conv (Conv2D)    (None, 40, 40, 256)  16640       pool1_pool[0][0]                 \n",
      "__________________________________________________________________________________________________\n",
      "conv2_block1_3_conv (Conv2D)    (None, 40, 40, 256)  16640       conv2_block1_2_relu[0][0]        \n",
      "__________________________________________________________________________________________________\n",
      "conv2_block1_0_bn (BatchNormali (None, 40, 40, 256)  1024        conv2_block1_0_conv[0][0]        \n",
      "__________________________________________________________________________________________________\n",
      "conv2_block1_3_bn (BatchNormali (None, 40, 40, 256)  1024        conv2_block1_3_conv[0][0]        \n",
      "__________________________________________________________________________________________________\n",
      "conv2_block1_add (Add)          (None, 40, 40, 256)  0           conv2_block1_0_bn[0][0]          \n",
      "                                                                 conv2_block1_3_bn[0][0]          \n",
      "__________________________________________________________________________________________________\n",
      "conv2_block1_out (Activation)   (None, 40, 40, 256)  0           conv2_block1_add[0][0]           \n",
      "__________________________________________________________________________________________________\n",
      "conv2_block2_1_conv (Conv2D)    (None, 40, 40, 64)   16448       conv2_block1_out[0][0]           \n",
      "__________________________________________________________________________________________________\n",
      "conv2_block2_1_bn (BatchNormali (None, 40, 40, 64)   256         conv2_block2_1_conv[0][0]        \n",
      "__________________________________________________________________________________________________\n",
      "conv2_block2_1_relu (Activation (None, 40, 40, 64)   0           conv2_block2_1_bn[0][0]          \n",
      "__________________________________________________________________________________________________\n",
      "conv2_block2_2_conv (Conv2D)    (None, 40, 40, 64)   36928       conv2_block2_1_relu[0][0]        \n",
      "__________________________________________________________________________________________________\n",
      "conv2_block2_2_bn (BatchNormali (None, 40, 40, 64)   256         conv2_block2_2_conv[0][0]        \n",
      "__________________________________________________________________________________________________\n",
      "conv2_block2_2_relu (Activation (None, 40, 40, 64)   0           conv2_block2_2_bn[0][0]          \n",
      "__________________________________________________________________________________________________\n",
      "conv2_block2_3_conv (Conv2D)    (None, 40, 40, 256)  16640       conv2_block2_2_relu[0][0]        \n",
      "__________________________________________________________________________________________________\n",
      "conv2_block2_3_bn (BatchNormali (None, 40, 40, 256)  1024        conv2_block2_3_conv[0][0]        \n",
      "__________________________________________________________________________________________________\n",
      "conv2_block2_add (Add)          (None, 40, 40, 256)  0           conv2_block1_out[0][0]           \n",
      "                                                                 conv2_block2_3_bn[0][0]          \n",
      "__________________________________________________________________________________________________\n",
      "conv2_block2_out (Activation)   (None, 40, 40, 256)  0           conv2_block2_add[0][0]           \n",
      "__________________________________________________________________________________________________\n",
      "conv2_block3_1_conv (Conv2D)    (None, 40, 40, 64)   16448       conv2_block2_out[0][0]           \n",
      "__________________________________________________________________________________________________\n",
      "conv2_block3_1_bn (BatchNormali (None, 40, 40, 64)   256         conv2_block3_1_conv[0][0]        \n",
      "__________________________________________________________________________________________________\n",
      "conv2_block3_1_relu (Activation (None, 40, 40, 64)   0           conv2_block3_1_bn[0][0]          \n",
      "__________________________________________________________________________________________________\n",
      "conv2_block3_2_conv (Conv2D)    (None, 40, 40, 64)   36928       conv2_block3_1_relu[0][0]        \n",
      "__________________________________________________________________________________________________\n",
      "conv2_block3_2_bn (BatchNormali (None, 40, 40, 64)   256         conv2_block3_2_conv[0][0]        \n",
      "__________________________________________________________________________________________________\n",
      "conv2_block3_2_relu (Activation (None, 40, 40, 64)   0           conv2_block3_2_bn[0][0]          \n",
      "__________________________________________________________________________________________________\n",
      "conv2_block3_3_conv (Conv2D)    (None, 40, 40, 256)  16640       conv2_block3_2_relu[0][0]        \n",
      "__________________________________________________________________________________________________\n",
      "conv2_block3_3_bn (BatchNormali (None, 40, 40, 256)  1024        conv2_block3_3_conv[0][0]        \n",
      "__________________________________________________________________________________________________\n",
      "conv2_block3_add (Add)          (None, 40, 40, 256)  0           conv2_block2_out[0][0]           \n",
      "                                                                 conv2_block3_3_bn[0][0]          \n",
      "__________________________________________________________________________________________________\n",
      "conv2_block3_out (Activation)   (None, 40, 40, 256)  0           conv2_block3_add[0][0]           \n",
      "__________________________________________________________________________________________________\n",
      "conv3_block1_1_conv (Conv2D)    (None, 20, 20, 128)  32896       conv2_block3_out[0][0]           \n",
      "__________________________________________________________________________________________________\n",
      "conv3_block1_1_bn (BatchNormali (None, 20, 20, 128)  512         conv3_block1_1_conv[0][0]        \n",
      "__________________________________________________________________________________________________\n",
      "conv3_block1_1_relu (Activation (None, 20, 20, 128)  0           conv3_block1_1_bn[0][0]          \n",
      "__________________________________________________________________________________________________\n",
      "conv3_block1_2_conv (Conv2D)    (None, 20, 20, 128)  147584      conv3_block1_1_relu[0][0]        \n",
      "__________________________________________________________________________________________________\n",
      "conv3_block1_2_bn (BatchNormali (None, 20, 20, 128)  512         conv3_block1_2_conv[0][0]        \n",
      "__________________________________________________________________________________________________\n",
      "conv3_block1_2_relu (Activation (None, 20, 20, 128)  0           conv3_block1_2_bn[0][0]          \n",
      "__________________________________________________________________________________________________\n",
      "conv3_block1_0_conv (Conv2D)    (None, 20, 20, 512)  131584      conv2_block3_out[0][0]           \n",
      "__________________________________________________________________________________________________\n",
      "conv3_block1_3_conv (Conv2D)    (None, 20, 20, 512)  66048       conv3_block1_2_relu[0][0]        \n",
      "__________________________________________________________________________________________________\n",
      "conv3_block1_0_bn (BatchNormali (None, 20, 20, 512)  2048        conv3_block1_0_conv[0][0]        \n",
      "__________________________________________________________________________________________________\n",
      "conv3_block1_3_bn (BatchNormali (None, 20, 20, 512)  2048        conv3_block1_3_conv[0][0]        \n",
      "__________________________________________________________________________________________________\n",
      "conv3_block1_add (Add)          (None, 20, 20, 512)  0           conv3_block1_0_bn[0][0]          \n",
      "                                                                 conv3_block1_3_bn[0][0]          \n",
      "__________________________________________________________________________________________________\n",
      "conv3_block1_out (Activation)   (None, 20, 20, 512)  0           conv3_block1_add[0][0]           \n",
      "__________________________________________________________________________________________________\n",
      "conv3_block2_1_conv (Conv2D)    (None, 20, 20, 128)  65664       conv3_block1_out[0][0]           \n",
      "__________________________________________________________________________________________________\n",
      "conv3_block2_1_bn (BatchNormali (None, 20, 20, 128)  512         conv3_block2_1_conv[0][0]        \n",
      "__________________________________________________________________________________________________\n",
      "conv3_block2_1_relu (Activation (None, 20, 20, 128)  0           conv3_block2_1_bn[0][0]          \n",
      "__________________________________________________________________________________________________\n",
      "conv3_block2_2_conv (Conv2D)    (None, 20, 20, 128)  147584      conv3_block2_1_relu[0][0]        \n",
      "__________________________________________________________________________________________________\n",
      "conv3_block2_2_bn (BatchNormali (None, 20, 20, 128)  512         conv3_block2_2_conv[0][0]        \n",
      "__________________________________________________________________________________________________\n",
      "conv3_block2_2_relu (Activation (None, 20, 20, 128)  0           conv3_block2_2_bn[0][0]          \n",
      "__________________________________________________________________________________________________\n",
      "conv3_block2_3_conv (Conv2D)    (None, 20, 20, 512)  66048       conv3_block2_2_relu[0][0]        \n",
      "__________________________________________________________________________________________________\n",
      "conv3_block2_3_bn (BatchNormali (None, 20, 20, 512)  2048        conv3_block2_3_conv[0][0]        \n",
      "__________________________________________________________________________________________________\n",
      "conv3_block2_add (Add)          (None, 20, 20, 512)  0           conv3_block1_out[0][0]           \n",
      "                                                                 conv3_block2_3_bn[0][0]          \n",
      "__________________________________________________________________________________________________\n",
      "conv3_block2_out (Activation)   (None, 20, 20, 512)  0           conv3_block2_add[0][0]           \n",
      "__________________________________________________________________________________________________\n",
      "conv3_block3_1_conv (Conv2D)    (None, 20, 20, 128)  65664       conv3_block2_out[0][0]           \n",
      "__________________________________________________________________________________________________\n",
      "conv3_block3_1_bn (BatchNormali (None, 20, 20, 128)  512         conv3_block3_1_conv[0][0]        \n",
      "__________________________________________________________________________________________________\n",
      "conv3_block3_1_relu (Activation (None, 20, 20, 128)  0           conv3_block3_1_bn[0][0]          \n",
      "__________________________________________________________________________________________________\n",
      "conv3_block3_2_conv (Conv2D)    (None, 20, 20, 128)  147584      conv3_block3_1_relu[0][0]        \n",
      "__________________________________________________________________________________________________\n",
      "conv3_block3_2_bn (BatchNormali (None, 20, 20, 128)  512         conv3_block3_2_conv[0][0]        \n",
      "__________________________________________________________________________________________________\n",
      "conv3_block3_2_relu (Activation (None, 20, 20, 128)  0           conv3_block3_2_bn[0][0]          \n",
      "__________________________________________________________________________________________________\n",
      "conv3_block3_3_conv (Conv2D)    (None, 20, 20, 512)  66048       conv3_block3_2_relu[0][0]        \n",
      "__________________________________________________________________________________________________\n",
      "conv3_block3_3_bn (BatchNormali (None, 20, 20, 512)  2048        conv3_block3_3_conv[0][0]        \n",
      "__________________________________________________________________________________________________\n",
      "conv3_block3_add (Add)          (None, 20, 20, 512)  0           conv3_block2_out[0][0]           \n",
      "                                                                 conv3_block3_3_bn[0][0]          \n",
      "__________________________________________________________________________________________________\n",
      "conv3_block3_out (Activation)   (None, 20, 20, 512)  0           conv3_block3_add[0][0]           \n",
      "__________________________________________________________________________________________________\n",
      "conv3_block4_1_conv (Conv2D)    (None, 20, 20, 128)  65664       conv3_block3_out[0][0]           \n",
      "__________________________________________________________________________________________________\n",
      "conv3_block4_1_bn (BatchNormali (None, 20, 20, 128)  512         conv3_block4_1_conv[0][0]        \n",
      "__________________________________________________________________________________________________\n",
      "conv3_block4_1_relu (Activation (None, 20, 20, 128)  0           conv3_block4_1_bn[0][0]          \n",
      "__________________________________________________________________________________________________\n",
      "conv3_block4_2_conv (Conv2D)    (None, 20, 20, 128)  147584      conv3_block4_1_relu[0][0]        \n",
      "__________________________________________________________________________________________________\n",
      "conv3_block4_2_bn (BatchNormali (None, 20, 20, 128)  512         conv3_block4_2_conv[0][0]        \n",
      "__________________________________________________________________________________________________\n",
      "conv3_block4_2_relu (Activation (None, 20, 20, 128)  0           conv3_block4_2_bn[0][0]          \n",
      "__________________________________________________________________________________________________\n",
      "conv3_block4_3_conv (Conv2D)    (None, 20, 20, 512)  66048       conv3_block4_2_relu[0][0]        \n",
      "__________________________________________________________________________________________________\n",
      "conv3_block4_3_bn (BatchNormali (None, 20, 20, 512)  2048        conv3_block4_3_conv[0][0]        \n",
      "__________________________________________________________________________________________________\n",
      "conv3_block4_add (Add)          (None, 20, 20, 512)  0           conv3_block3_out[0][0]           \n",
      "                                                                 conv3_block4_3_bn[0][0]          \n",
      "__________________________________________________________________________________________________\n",
      "conv3_block4_out (Activation)   (None, 20, 20, 512)  0           conv3_block4_add[0][0]           \n",
      "__________________________________________________________________________________________________\n",
      "conv4_block1_1_conv (Conv2D)    (None, 10, 10, 256)  131328      conv3_block4_out[0][0]           \n",
      "__________________________________________________________________________________________________\n",
      "conv4_block1_1_bn (BatchNormali (None, 10, 10, 256)  1024        conv4_block1_1_conv[0][0]        \n",
      "__________________________________________________________________________________________________\n",
      "conv4_block1_1_relu (Activation (None, 10, 10, 256)  0           conv4_block1_1_bn[0][0]          \n",
      "__________________________________________________________________________________________________\n",
      "conv4_block1_2_conv (Conv2D)    (None, 10, 10, 256)  590080      conv4_block1_1_relu[0][0]        \n",
      "__________________________________________________________________________________________________\n",
      "conv4_block1_2_bn (BatchNormali (None, 10, 10, 256)  1024        conv4_block1_2_conv[0][0]        \n",
      "__________________________________________________________________________________________________\n",
      "conv4_block1_2_relu (Activation (None, 10, 10, 256)  0           conv4_block1_2_bn[0][0]          \n",
      "__________________________________________________________________________________________________\n",
      "conv4_block1_0_conv (Conv2D)    (None, 10, 10, 1024) 525312      conv3_block4_out[0][0]           \n",
      "__________________________________________________________________________________________________\n",
      "conv4_block1_3_conv (Conv2D)    (None, 10, 10, 1024) 263168      conv4_block1_2_relu[0][0]        \n",
      "__________________________________________________________________________________________________\n",
      "conv4_block1_0_bn (BatchNormali (None, 10, 10, 1024) 4096        conv4_block1_0_conv[0][0]        \n",
      "__________________________________________________________________________________________________\n",
      "conv4_block1_3_bn (BatchNormali (None, 10, 10, 1024) 4096        conv4_block1_3_conv[0][0]        \n",
      "__________________________________________________________________________________________________\n",
      "conv4_block1_add (Add)          (None, 10, 10, 1024) 0           conv4_block1_0_bn[0][0]          \n",
      "                                                                 conv4_block1_3_bn[0][0]          \n",
      "__________________________________________________________________________________________________\n",
      "conv4_block1_out (Activation)   (None, 10, 10, 1024) 0           conv4_block1_add[0][0]           \n",
      "__________________________________________________________________________________________________\n",
      "conv4_block2_1_conv (Conv2D)    (None, 10, 10, 256)  262400      conv4_block1_out[0][0]           \n",
      "__________________________________________________________________________________________________\n",
      "conv4_block2_1_bn (BatchNormali (None, 10, 10, 256)  1024        conv4_block2_1_conv[0][0]        \n",
      "__________________________________________________________________________________________________\n",
      "conv4_block2_1_relu (Activation (None, 10, 10, 256)  0           conv4_block2_1_bn[0][0]          \n",
      "__________________________________________________________________________________________________\n",
      "conv4_block2_2_conv (Conv2D)    (None, 10, 10, 256)  590080      conv4_block2_1_relu[0][0]        \n",
      "__________________________________________________________________________________________________\n",
      "conv4_block2_2_bn (BatchNormali (None, 10, 10, 256)  1024        conv4_block2_2_conv[0][0]        \n",
      "__________________________________________________________________________________________________\n",
      "conv4_block2_2_relu (Activation (None, 10, 10, 256)  0           conv4_block2_2_bn[0][0]          \n",
      "__________________________________________________________________________________________________\n",
      "conv4_block2_3_conv (Conv2D)    (None, 10, 10, 1024) 263168      conv4_block2_2_relu[0][0]        \n",
      "__________________________________________________________________________________________________\n",
      "conv4_block2_3_bn (BatchNormali (None, 10, 10, 1024) 4096        conv4_block2_3_conv[0][0]        \n",
      "__________________________________________________________________________________________________\n",
      "conv4_block2_add (Add)          (None, 10, 10, 1024) 0           conv4_block1_out[0][0]           \n",
      "                                                                 conv4_block2_3_bn[0][0]          \n",
      "__________________________________________________________________________________________________\n",
      "conv4_block2_out (Activation)   (None, 10, 10, 1024) 0           conv4_block2_add[0][0]           \n",
      "__________________________________________________________________________________________________\n",
      "conv4_block3_1_conv (Conv2D)    (None, 10, 10, 256)  262400      conv4_block2_out[0][0]           \n",
      "__________________________________________________________________________________________________\n",
      "conv4_block3_1_bn (BatchNormali (None, 10, 10, 256)  1024        conv4_block3_1_conv[0][0]        \n",
      "__________________________________________________________________________________________________\n",
      "conv4_block3_1_relu (Activation (None, 10, 10, 256)  0           conv4_block3_1_bn[0][0]          \n",
      "__________________________________________________________________________________________________\n",
      "conv4_block3_2_conv (Conv2D)    (None, 10, 10, 256)  590080      conv4_block3_1_relu[0][0]        \n",
      "__________________________________________________________________________________________________\n",
      "conv4_block3_2_bn (BatchNormali (None, 10, 10, 256)  1024        conv4_block3_2_conv[0][0]        \n",
      "__________________________________________________________________________________________________\n",
      "conv4_block3_2_relu (Activation (None, 10, 10, 256)  0           conv4_block3_2_bn[0][0]          \n",
      "__________________________________________________________________________________________________\n",
      "conv4_block3_3_conv (Conv2D)    (None, 10, 10, 1024) 263168      conv4_block3_2_relu[0][0]        \n",
      "__________________________________________________________________________________________________\n",
      "conv4_block3_3_bn (BatchNormali (None, 10, 10, 1024) 4096        conv4_block3_3_conv[0][0]        \n",
      "__________________________________________________________________________________________________\n",
      "conv4_block3_add (Add)          (None, 10, 10, 1024) 0           conv4_block2_out[0][0]           \n",
      "                                                                 conv4_block3_3_bn[0][0]          \n",
      "__________________________________________________________________________________________________\n",
      "conv4_block3_out (Activation)   (None, 10, 10, 1024) 0           conv4_block3_add[0][0]           \n",
      "__________________________________________________________________________________________________\n",
      "conv4_block4_1_conv (Conv2D)    (None, 10, 10, 256)  262400      conv4_block3_out[0][0]           \n",
      "__________________________________________________________________________________________________\n",
      "conv4_block4_1_bn (BatchNormali (None, 10, 10, 256)  1024        conv4_block4_1_conv[0][0]        \n",
      "__________________________________________________________________________________________________\n",
      "conv4_block4_1_relu (Activation (None, 10, 10, 256)  0           conv4_block4_1_bn[0][0]          \n",
      "__________________________________________________________________________________________________\n",
      "conv4_block4_2_conv (Conv2D)    (None, 10, 10, 256)  590080      conv4_block4_1_relu[0][0]        \n",
      "__________________________________________________________________________________________________\n",
      "conv4_block4_2_bn (BatchNormali (None, 10, 10, 256)  1024        conv4_block4_2_conv[0][0]        \n",
      "__________________________________________________________________________________________________\n",
      "conv4_block4_2_relu (Activation (None, 10, 10, 256)  0           conv4_block4_2_bn[0][0]          \n",
      "__________________________________________________________________________________________________\n",
      "conv4_block4_3_conv (Conv2D)    (None, 10, 10, 1024) 263168      conv4_block4_2_relu[0][0]        \n",
      "__________________________________________________________________________________________________\n",
      "conv4_block4_3_bn (BatchNormali (None, 10, 10, 1024) 4096        conv4_block4_3_conv[0][0]        \n",
      "__________________________________________________________________________________________________\n",
      "conv4_block4_add (Add)          (None, 10, 10, 1024) 0           conv4_block3_out[0][0]           \n",
      "                                                                 conv4_block4_3_bn[0][0]          \n",
      "__________________________________________________________________________________________________\n",
      "conv4_block4_out (Activation)   (None, 10, 10, 1024) 0           conv4_block4_add[0][0]           \n",
      "__________________________________________________________________________________________________\n",
      "conv4_block5_1_conv (Conv2D)    (None, 10, 10, 256)  262400      conv4_block4_out[0][0]           \n",
      "__________________________________________________________________________________________________\n",
      "conv4_block5_1_bn (BatchNormali (None, 10, 10, 256)  1024        conv4_block5_1_conv[0][0]        \n",
      "__________________________________________________________________________________________________\n",
      "conv4_block5_1_relu (Activation (None, 10, 10, 256)  0           conv4_block5_1_bn[0][0]          \n",
      "__________________________________________________________________________________________________\n",
      "conv4_block5_2_conv (Conv2D)    (None, 10, 10, 256)  590080      conv4_block5_1_relu[0][0]        \n",
      "__________________________________________________________________________________________________\n",
      "conv4_block5_2_bn (BatchNormali (None, 10, 10, 256)  1024        conv4_block5_2_conv[0][0]        \n",
      "__________________________________________________________________________________________________\n",
      "conv4_block5_2_relu (Activation (None, 10, 10, 256)  0           conv4_block5_2_bn[0][0]          \n",
      "__________________________________________________________________________________________________\n",
      "conv4_block5_3_conv (Conv2D)    (None, 10, 10, 1024) 263168      conv4_block5_2_relu[0][0]        \n",
      "__________________________________________________________________________________________________\n",
      "conv4_block5_3_bn (BatchNormali (None, 10, 10, 1024) 4096        conv4_block5_3_conv[0][0]        \n",
      "__________________________________________________________________________________________________\n",
      "conv4_block5_add (Add)          (None, 10, 10, 1024) 0           conv4_block4_out[0][0]           \n",
      "                                                                 conv4_block5_3_bn[0][0]          \n",
      "__________________________________________________________________________________________________\n",
      "conv4_block5_out (Activation)   (None, 10, 10, 1024) 0           conv4_block5_add[0][0]           \n",
      "__________________________________________________________________________________________________\n",
      "conv4_block6_1_conv (Conv2D)    (None, 10, 10, 256)  262400      conv4_block5_out[0][0]           \n",
      "__________________________________________________________________________________________________\n",
      "conv4_block6_1_bn (BatchNormali (None, 10, 10, 256)  1024        conv4_block6_1_conv[0][0]        \n",
      "__________________________________________________________________________________________________\n",
      "conv4_block6_1_relu (Activation (None, 10, 10, 256)  0           conv4_block6_1_bn[0][0]          \n",
      "__________________________________________________________________________________________________\n",
      "conv4_block6_2_conv (Conv2D)    (None, 10, 10, 256)  590080      conv4_block6_1_relu[0][0]        \n",
      "__________________________________________________________________________________________________\n",
      "conv4_block6_2_bn (BatchNormali (None, 10, 10, 256)  1024        conv4_block6_2_conv[0][0]        \n",
      "__________________________________________________________________________________________________\n",
      "conv4_block6_2_relu (Activation (None, 10, 10, 256)  0           conv4_block6_2_bn[0][0]          \n",
      "__________________________________________________________________________________________________\n",
      "conv4_block6_3_conv (Conv2D)    (None, 10, 10, 1024) 263168      conv4_block6_2_relu[0][0]        \n",
      "__________________________________________________________________________________________________\n",
      "conv4_block6_3_bn (BatchNormali (None, 10, 10, 1024) 4096        conv4_block6_3_conv[0][0]        \n",
      "__________________________________________________________________________________________________\n",
      "conv4_block6_add (Add)          (None, 10, 10, 1024) 0           conv4_block5_out[0][0]           \n",
      "                                                                 conv4_block6_3_bn[0][0]          \n",
      "__________________________________________________________________________________________________\n",
      "conv4_block6_out (Activation)   (None, 10, 10, 1024) 0           conv4_block6_add[0][0]           \n",
      "__________________________________________________________________________________________________\n",
      "conv5_block1_1_conv (Conv2D)    (None, 5, 5, 512)    524800      conv4_block6_out[0][0]           \n",
      "__________________________________________________________________________________________________\n",
      "conv5_block1_1_bn (BatchNormali (None, 5, 5, 512)    2048        conv5_block1_1_conv[0][0]        \n",
      "__________________________________________________________________________________________________\n",
      "conv5_block1_1_relu (Activation (None, 5, 5, 512)    0           conv5_block1_1_bn[0][0]          \n",
      "__________________________________________________________________________________________________\n",
      "conv5_block1_2_conv (Conv2D)    (None, 5, 5, 512)    2359808     conv5_block1_1_relu[0][0]        \n",
      "__________________________________________________________________________________________________\n",
      "conv5_block1_2_bn (BatchNormali (None, 5, 5, 512)    2048        conv5_block1_2_conv[0][0]        \n",
      "__________________________________________________________________________________________________\n",
      "conv5_block1_2_relu (Activation (None, 5, 5, 512)    0           conv5_block1_2_bn[0][0]          \n",
      "__________________________________________________________________________________________________\n",
      "conv5_block1_0_conv (Conv2D)    (None, 5, 5, 2048)   2099200     conv4_block6_out[0][0]           \n",
      "__________________________________________________________________________________________________\n",
      "conv5_block1_3_conv (Conv2D)    (None, 5, 5, 2048)   1050624     conv5_block1_2_relu[0][0]        \n",
      "__________________________________________________________________________________________________\n",
      "conv5_block1_0_bn (BatchNormali (None, 5, 5, 2048)   8192        conv5_block1_0_conv[0][0]        \n",
      "__________________________________________________________________________________________________\n",
      "conv5_block1_3_bn (BatchNormali (None, 5, 5, 2048)   8192        conv5_block1_3_conv[0][0]        \n",
      "__________________________________________________________________________________________________\n",
      "conv5_block1_add (Add)          (None, 5, 5, 2048)   0           conv5_block1_0_bn[0][0]          \n",
      "                                                                 conv5_block1_3_bn[0][0]          \n",
      "__________________________________________________________________________________________________\n",
      "conv5_block1_out (Activation)   (None, 5, 5, 2048)   0           conv5_block1_add[0][0]           \n",
      "__________________________________________________________________________________________________\n",
      "conv5_block2_1_conv (Conv2D)    (None, 5, 5, 512)    1049088     conv5_block1_out[0][0]           \n",
      "__________________________________________________________________________________________________\n",
      "conv5_block2_1_bn (BatchNormali (None, 5, 5, 512)    2048        conv5_block2_1_conv[0][0]        \n",
      "__________________________________________________________________________________________________\n",
      "conv5_block2_1_relu (Activation (None, 5, 5, 512)    0           conv5_block2_1_bn[0][0]          \n",
      "__________________________________________________________________________________________________\n",
      "conv5_block2_2_conv (Conv2D)    (None, 5, 5, 512)    2359808     conv5_block2_1_relu[0][0]        \n",
      "__________________________________________________________________________________________________\n",
      "conv5_block2_2_bn (BatchNormali (None, 5, 5, 512)    2048        conv5_block2_2_conv[0][0]        \n",
      "__________________________________________________________________________________________________\n",
      "conv5_block2_2_relu (Activation (None, 5, 5, 512)    0           conv5_block2_2_bn[0][0]          \n",
      "__________________________________________________________________________________________________\n",
      "conv5_block2_3_conv (Conv2D)    (None, 5, 5, 2048)   1050624     conv5_block2_2_relu[0][0]        \n",
      "__________________________________________________________________________________________________\n",
      "conv5_block2_3_bn (BatchNormali (None, 5, 5, 2048)   8192        conv5_block2_3_conv[0][0]        \n",
      "__________________________________________________________________________________________________\n",
      "conv5_block2_add (Add)          (None, 5, 5, 2048)   0           conv5_block1_out[0][0]           \n",
      "                                                                 conv5_block2_3_bn[0][0]          \n",
      "__________________________________________________________________________________________________\n",
      "conv5_block2_out (Activation)   (None, 5, 5, 2048)   0           conv5_block2_add[0][0]           \n",
      "__________________________________________________________________________________________________\n",
      "conv5_block3_1_conv (Conv2D)    (None, 5, 5, 512)    1049088     conv5_block2_out[0][0]           \n",
      "__________________________________________________________________________________________________\n",
      "conv5_block3_1_bn (BatchNormali (None, 5, 5, 512)    2048        conv5_block3_1_conv[0][0]        \n",
      "__________________________________________________________________________________________________\n",
      "conv5_block3_1_relu (Activation (None, 5, 5, 512)    0           conv5_block3_1_bn[0][0]          \n",
      "__________________________________________________________________________________________________\n",
      "conv5_block3_2_conv (Conv2D)    (None, 5, 5, 512)    2359808     conv5_block3_1_relu[0][0]        \n",
      "__________________________________________________________________________________________________\n",
      "conv5_block3_2_bn (BatchNormali (None, 5, 5, 512)    2048        conv5_block3_2_conv[0][0]        \n",
      "__________________________________________________________________________________________________\n",
      "conv5_block3_2_relu (Activation (None, 5, 5, 512)    0           conv5_block3_2_bn[0][0]          \n",
      "__________________________________________________________________________________________________\n",
      "conv5_block3_3_conv (Conv2D)    (None, 5, 5, 2048)   1050624     conv5_block3_2_relu[0][0]        \n",
      "__________________________________________________________________________________________________\n",
      "conv5_block3_3_bn (BatchNormali (None, 5, 5, 2048)   8192        conv5_block3_3_conv[0][0]        \n",
      "__________________________________________________________________________________________________\n",
      "conv5_block3_add (Add)          (None, 5, 5, 2048)   0           conv5_block2_out[0][0]           \n",
      "                                                                 conv5_block3_3_bn[0][0]          \n",
      "__________________________________________________________________________________________________\n",
      "conv5_block3_out (Activation)   (None, 5, 5, 2048)   0           conv5_block3_add[0][0]           \n",
      "==================================================================================================\n",
      "Total params: 23,587,712\n",
      "Trainable params: 0\n",
      "Non-trainable params: 23,587,712\n",
      "__________________________________________________________________________________________________\n"
     ]
    }
   ],
   "source": [
    "# Let's take a look at the base model architecture\n",
    "base_model.summary()"
   ]
  },
  {
   "cell_type": "code",
   "execution_count": 25,
   "metadata": {},
   "outputs": [],
   "source": [
    "# the original adds 2d global_average_pooling2d layer to make the base layer ready for classification.  \n",
    "global_average_layer = tf.keras.layers.GlobalAveragePooling2D()"
   ]
  },
  {
   "cell_type": "code",
   "execution_count": 26,
   "metadata": {},
   "outputs": [],
   "source": [
    "# now I set up traditional learning and top layer, but I change from binary to multiclass so I must add softmax to top\n",
    "final_output_layer=tf.keras.layers.Softmax()"
   ]
  },
  {
   "cell_type": "code",
   "execution_count": 27,
   "metadata": {},
   "outputs": [],
   "source": [
    "# This is the multiclass equivalent to original transfer learning network  \n",
    "prediction_layer4 = tf.keras.layers.Dense(num_outputs)  # change1 from original: I make num_outputs outputs\n",
    "inputs = tf.keras.Input(shape=(160, 160, 3))\n",
    "x = data_augmentation(inputs)\n",
    "x = preprocess_input(x)\n",
    "x = base_model(x, training=False)\n",
    "x = global_average_layer(x)\n",
    "x = tf.keras.layers.Dropout(0.2)(x)\n",
    "x = prediction_layer4(x)    # adds the 49 nodes\n",
    "outputs = final_output_layer(x)  # change2: adds softmax\n",
    "orig_TF_paradigm_model = tf.keras.Model(inputs, outputs)   # this is now the traditional leanring network"
   ]
  },
  {
   "cell_type": "code",
   "execution_count": 28,
   "metadata": {},
   "outputs": [],
   "source": [
    "# Change 3:SparseCategoricalCrossentropy from BinaryCrossentropy because it is multiclass\n",
    "\n",
    "base_learning_rate = 0.0001\n",
    "orig_TF_paradigm_model.compile(optimizer=tf.keras.optimizers.Adam(learning_rate=base_learning_rate),\n",
    "              loss=tf.keras.losses.SparseCategoricalCrossentropy(from_logits=True),  #loss=tf.keras.losses.BinaryCrossentropy(from_logits=True),\n",
    "              metrics=['accuracy'],\n",
    "              run_eagerly=True,) # Now I compile it.  "
   ]
  },
  {
   "cell_type": "code",
   "execution_count": 29,
   "metadata": {},
   "outputs": [
    {
     "name": "stdout",
     "output_type": "stream",
     "text": [
      "Model: \"model\"\n",
      "_________________________________________________________________\n",
      "Layer (type)                 Output Shape              Param #   \n",
      "=================================================================\n",
      "input_2 (InputLayer)         [(None, 160, 160, 3)]     0         \n",
      "_________________________________________________________________\n",
      "sequential (Sequential)      (None, 160, 160, 3)       0         \n",
      "_________________________________________________________________\n",
      "tf.__operators__.getitem (Sl (None, 160, 160, 3)       0         \n",
      "_________________________________________________________________\n",
      "tf.nn.bias_add (TFOpLambda)  (None, 160, 160, 3)       0         \n",
      "_________________________________________________________________\n",
      "resnet50 (Functional)        (None, 5, 5, 2048)        23587712  \n",
      "_________________________________________________________________\n",
      "global_average_pooling2d (Gl (None, 2048)              0         \n",
      "_________________________________________________________________\n",
      "dropout (Dropout)            (None, 2048)              0         \n",
      "_________________________________________________________________\n",
      "dense (Dense)                (None, 2)                 4098      \n",
      "_________________________________________________________________\n",
      "softmax (Softmax)            (None, 2)                 0         \n",
      "=================================================================\n",
      "Total params: 23,591,810\n",
      "Trainable params: 4,098\n",
      "Non-trainable params: 23,587,712\n",
      "_________________________________________________________________\n"
     ]
    }
   ],
   "source": [
    "orig_TF_paradigm_model.summary()"
   ]
  },
  {
   "cell_type": "code",
   "execution_count": 30,
   "metadata": {},
   "outputs": [],
   "source": [
    "# here I create the version of the base model that will feed inputs to OM layer and I call it model_with_av_layer\n",
    "# it does not have anything after the global_average_layer\n",
    "inputs = tf.keras.Input(shape=(160, 160, 3))\n",
    "x = data_augmentation(inputs)\n",
    "x = preprocess_input(x)\n",
    "x = base_model(x, training=False)\n",
    "outputs = global_average_layer(x)\n",
    "#outputs = prediction_layer(x)   # It is basically the same as the original notebook but no prediction layer\n",
    "model_with_av_layer = tf.keras.Model(inputs, outputs) \n"
   ]
  },
  {
   "cell_type": "code",
   "execution_count": 31,
   "metadata": {},
   "outputs": [
    {
     "name": "stdout",
     "output_type": "stream",
     "text": [
      "Model: \"model_1\"\n",
      "_________________________________________________________________\n",
      "Layer (type)                 Output Shape              Param #   \n",
      "=================================================================\n",
      "input_3 (InputLayer)         [(None, 160, 160, 3)]     0         \n",
      "_________________________________________________________________\n",
      "sequential (Sequential)      (None, 160, 160, 3)       0         \n",
      "_________________________________________________________________\n",
      "tf.__operators__.getitem_1 ( (None, 160, 160, 3)       0         \n",
      "_________________________________________________________________\n",
      "tf.nn.bias_add_1 (TFOpLambda (None, 160, 160, 3)       0         \n",
      "_________________________________________________________________\n",
      "resnet50 (Functional)        (None, 5, 5, 2048)        23587712  \n",
      "_________________________________________________________________\n",
      "global_average_pooling2d (Gl (None, 2048)              0         \n",
      "=================================================================\n",
      "Total params: 23,587,712\n",
      "Trainable params: 0\n",
      "Non-trainable params: 23,587,712\n",
      "_________________________________________________________________\n"
     ]
    }
   ],
   "source": [
    "model_with_av_layer.summary()"
   ]
  },
  {
   "cell_type": "code",
   "execution_count": 32,
   "metadata": {},
   "outputs": [],
   "source": [
    "# Set up OM model that will take inputs from the 1280 outputs of model_with_av_layer"
   ]
  },
  {
   "cell_type": "code",
   "execution_count": 33,
   "metadata": {},
   "outputs": [],
   "source": [
    "from OM_Model_learn import OM_CORE"
   ]
  },
  {
   "cell_type": "code",
   "execution_count": 34,
   "metadata": {},
   "outputs": [
    {
     "name": "stdout",
     "output_type": "stream",
     "text": [
      "Version: OM core 0.27 minimzie from 5/12 3/21/2022 brought back stuff from 14 RFN conv\n"
     ]
    }
   ],
   "source": [
    "num_inputs=model_with_av_layer.output.shape[1]  #1280\n",
    "\n",
    "OMmodel = OM_CORE(num_inputs, num_outputs)"
   ]
  },
  {
   "cell_type": "code",
   "execution_count": 35,
   "metadata": {},
   "outputs": [],
   "source": [
    "#OMmodel.update()   #in case it is run or tested un-initiated  \n",
    "OMmodel.compile()"
   ]
  },
  {
   "cell_type": "code",
   "execution_count": 36,
   "metadata": {},
   "outputs": [],
   "source": [
    "# this is an equivalent TF model that will recieve the OM weights\n",
    "prediction_layer2 = tf.keras.layers.Dense(num_outputs)  # top nodes\n",
    "inputs = tf.keras.Input(shape=(160, 160, 3))\n",
    "x = data_augmentation(inputs)\n",
    "x = preprocess_input(x)\n",
    "x = base_model(x, training=False)\n",
    "x = global_average_layer(x)\n",
    "x = tf.keras.layers.Dropout(0.2)(x)\n",
    "x = prediction_layer2(x)  # nodes whose weights I will be changed by om\n",
    "outputs = final_output_layer(x)  #softmax\n",
    "tf_model_tobe_trained_by_OM = tf.keras.Model(inputs, outputs)\n"
   ]
  },
  {
   "cell_type": "code",
   "execution_count": 37,
   "metadata": {},
   "outputs": [],
   "source": [
    "#it needs compile if I do validation but I never really do any learning so most of this doesnt really matter\n",
    "base_learning_rate = 0.0001\n",
    "tf_model_tobe_trained_by_OM.compile(optimizer=tf.keras.optimizers.Adam(learning_rate=base_learning_rate),\n",
    "              loss=tf.keras.losses.SparseCategoricalCrossentropy(from_logits=True),  #loss=tf.keras.losses.BinaryCrossentropy(from_logits=True),\n",
    "              metrics=['accuracy'],\n",
    "              run_eagerly=True,) # Efi: needs to be added to prevent optimization"
   ]
  },
  {
   "cell_type": "code",
   "execution_count": 38,
   "metadata": {},
   "outputs": [
    {
     "name": "stdout",
     "output_type": "stream",
     "text": [
      "Model: \"model_2\"\n",
      "_________________________________________________________________\n",
      "Layer (type)                 Output Shape              Param #   \n",
      "=================================================================\n",
      "input_4 (InputLayer)         [(None, 160, 160, 3)]     0         \n",
      "_________________________________________________________________\n",
      "sequential (Sequential)      (None, 160, 160, 3)       0         \n",
      "_________________________________________________________________\n",
      "tf.__operators__.getitem_2 ( (None, 160, 160, 3)       0         \n",
      "_________________________________________________________________\n",
      "tf.nn.bias_add_2 (TFOpLambda (None, 160, 160, 3)       0         \n",
      "_________________________________________________________________\n",
      "resnet50 (Functional)        (None, 5, 5, 2048)        23587712  \n",
      "_________________________________________________________________\n",
      "global_average_pooling2d (Gl (None, 2048)              0         \n",
      "_________________________________________________________________\n",
      "dropout_1 (Dropout)          (None, 2048)              0         \n",
      "_________________________________________________________________\n",
      "dense_1 (Dense)              (None, 2)                 4098      \n",
      "_________________________________________________________________\n",
      "softmax (Softmax)            (None, 2)                 0         \n",
      "=================================================================\n",
      "Total params: 23,591,810\n",
      "Trainable params: 4,098\n",
      "Non-trainable params: 23,587,712\n",
      "_________________________________________________________________\n"
     ]
    }
   ],
   "source": [
    "tf_model_tobe_trained_by_OM.summary()"
   ]
  },
  {
   "cell_type": "code",
   "execution_count": 39,
   "metadata": {},
   "outputs": [],
   "source": [
    "# so I dont validate at every point for graphing (otherwise things take forever)\n",
    "validate_points=np.concatenate([np.arange(30),np.arange(30,40,2),np.arange(40,60,3),np.arange(60,100,5),np.arange(100,300,7),np.arange(300,700,10),np.arange(700,1500,15),np.arange(1500,3000,20)])"
   ]
  },
  {
   "cell_type": "code",
   "execution_count": 40,
   "metadata": {},
   "outputs": [
    {
     "data": {
      "text/plain": [
       "248"
      ]
     },
     "execution_count": 40,
     "metadata": {},
     "output_type": "execute_result"
    }
   ],
   "source": [
    "len(validate_points)"
   ]
  },
  {
   "cell_type": "code",
   "execution_count": 41,
   "metadata": {},
   "outputs": [],
   "source": [
    "# start re-run here "
   ]
  },
  {
   "cell_type": "code",
   "execution_count": 42,
   "metadata": {},
   "outputs": [
    {
     "name": "stdout",
     "output_type": "stream",
     "text": [
      "200\n"
     ]
    }
   ],
   "source": [
    "# find the number of entries in thrid_animal_validation set: there doesnt seem to be an adequate internal function to do this!\n",
    "# Im sure there is a better way but whatever\n",
    "num_data_in_validation_dataset=0\n",
    "for data, label in validation_dataset: #.as_numpy_iterator():\n",
    "    num_data_in_validation_dataset=num_data_in_validation_dataset+len(data)\n",
    "print(num_data_in_validation_dataset)"
   ]
  },
  {
   "cell_type": "code",
   "execution_count": 43,
   "metadata": {},
   "outputs": [],
   "source": [
    "# setup validation manually so I dont have to go through base for every validation (saves time because validation is the same)\n",
    "i=0\n",
    "validation_labels=np.ones((1,num_data_in_validation_dataset))*50  #crazy initial values for debug\n",
    "net_out_validation_for_OM=np.ones((num_data_in_validation_dataset,num_inputs))*50  \n",
    "\n",
    "for data, label in validation_dataset: #.as_numpy_iterator():\n",
    "    #print(\"Batch\",i,\"out of\",num_data_in_validation_dataset,\"size:\",len(data),len(label))\n",
    "    len_batch=len(label)\n",
    "    #print(label)\n",
    "    validation_labels[0,(BATCH_SIZE*i):(BATCH_SIZE*(i)+len_batch)]=label  # set up validation truth table\n",
    "    temp=model_with_av_layer.predict(data)  #run bottom transfer layers pre-rfn\n",
    "    net_out_validation_for_OM[BATCH_SIZE*i:(BATCH_SIZE*i+len_batch),:]=temp[0:len_batch,:]\n",
    "    i=i+1\n",
    "validation_labels=validation_labels.astype(int)\n"
   ]
  },
  {
   "cell_type": "code",
   "execution_count": 44,
   "metadata": {},
   "outputs": [
    {
     "name": "stdout",
     "output_type": "stream",
     "text": [
      "[0 1 1 1 0 0 0 1 1 1 1 0 0 1 0 1 1 0 1 0 0 1 0 1 1 1 1 0 0 1 1 0 0 1 0 1 1\n",
      " 0 1 0 0 0 0 0 1 0 0 0 1 1 1 0 0 0 0 0 1 0 0 1 1 0 1 1 1 1 0 0 1 1 1 1 0 1\n",
      " 0 1 1 1 1 0 1 1 0 0 0 0 1 1 0 1 1 0 0 0 1 0 1 1 0 1 0 0 1 1 1 1 1 1 1 1 1\n",
      " 0 1 1 0 1 0 0 0 1 0 1 0 0 1 0 1 0 0 0 0 1 0 1 0 0 1 0 0 0 1 1 0 1 1 0 1 1\n",
      " 1 0 0 1 0 0 1 0 1 1 1 1 0 0 1 1 0 0 0 0 0 0 0 1 1 1 1 1 0 0 1 0 1 1 1 1 1\n",
      " 1 0 0 0 0 0 1 1 0 1 0 1 1 1 0]\n"
     ]
    }
   ],
   "source": [
    "print(validation_labels[0,:])"
   ]
  },
  {
   "cell_type": "code",
   "execution_count": 45,
   "metadata": {},
   "outputs": [
    {
     "name": "stdout",
     "output_type": "stream",
     "text": [
      "num of data of train batches in a single epoch 230 batch size = 1 epochs= 1\n"
     ]
    }
   ],
   "source": [
    "# for batches\n",
    "num_batches_in_train_dataset=len(train_dataset)              # number of batches in train_dataset\n",
    "print(\"num of data of train batches in a single epoch\",num_batches_in_train_dataset,\"batch size =\",BATCH_SIZE,\"epochs=\",initial_epochs)\n",
    "OM_learn_Vacc=[] #0.5*np.ones(num_batches_in_train_dataset*initial_epochs)    #initializing as .5 just in case zeros gets through somehow  #np.zeros(num_batches_in_train_dataset)\n",
    "tf_learn_Vacc=[] #0.5*np.ones(num_batches_in_train_dataset*initial_epochs)    #np.zeros(num_batches_in_train_dataset)"
   ]
  },
  {
   "cell_type": "code",
   "execution_count": 46,
   "metadata": {},
   "outputs": [],
   "source": [
    "labels_presented=[]"
   ]
  },
  {
   "cell_type": "code",
   "execution_count": 47,
   "metadata": {},
   "outputs": [
    {
     "data": {
      "text/plain": [
       "[]"
      ]
     },
     "execution_count": 47,
     "metadata": {},
     "output_type": "execute_result"
    }
   ],
   "source": [
    "tf_learn_Vacc"
   ]
  },
  {
   "cell_type": "code",
   "execution_count": 48,
   "metadata": {},
   "outputs": [],
   "source": [
    "# store baselines before learn\n",
    "store_baselines_before_learning=False\n",
    "if store_baselines_before_learning:\n",
    "    loss_, accuracy_ = orig_TF_paradigm_model.evaluate(validation_dataset)\n",
    "    print('validation of TF before train on new',accuracy_)\n",
    "    tf_learn_Vacc.append(accuracy_) #store data\n",
    "\n",
    "    OMmodel.test_data_score(net_out_validation_for_OM,validation_labels[0,:])  #validate for OM\n",
    "    print('validation of OM on NEW data before train on new',OMmodel.last_score_accuracy/100)\n",
    "    OM_learn_Vacc.append(OMmodel.last_score_accuracy/100) \n",
    "    \n",
    "    # I want to add one more zero point and increase the index of everything by 1 to test before learning\n",
    "    graph_points=list(validate_points.copy()+1)\n",
    "    graph_points.insert(0,0)\n",
    "else:\n",
    "    graph_points=list(validate_points.copy())\n"
   ]
  },
  {
   "cell_type": "code",
   "execution_count": 49,
   "metadata": {},
   "outputs": [],
   "source": [
    "initial_epochs=4"
   ]
  },
  {
   "cell_type": "code",
   "execution_count": 50,
   "metadata": {
    "scrolled": true
   },
   "outputs": [
    {
     "name": "stdout",
     "output_type": "stream",
     "text": [
      " Learned [1] of label(s) [0] , previously [0. 0.] of each.\n",
      "200/200 [==============================] - 21s 103ms/step - loss: 0.7687 - accuracy: 0.5200\n",
      " (Number correct, number incorrect, number of tests): ( 96 104 200 ) %Correct:  48.0 %\n",
      "False Positives by label: [104.   0.]\n",
      "False Negatives by label: [  0. 104.]\n",
      "See   .last_score_accuracy for % accuracy value\n",
      "Training: Batch 0, Epoch 0, 1 entries accuracy of OM core 0.48 and TF 0.52 \n",
      " Learned [1] of label(s) [1] , previously [1. 0.] of each.\n",
      "200/200 [==============================] - 20s 98ms/step - loss: 0.7698 - accuracy: 0.5200\n",
      " (Number correct, number incorrect, number of tests): ( 127 73 200 ) %Correct:  63.5 %\n",
      "False Positives by label: [13. 60.]\n",
      "False Negatives by label: [60. 13.]\n",
      "See   .last_score_accuracy for % accuracy value\n",
      "Training: Batch 1, Epoch 0, 1 entries accuracy of OM core 0.635 and TF 0.52 \n",
      " Learned [1] of label(s) [1] , previously [1. 1.] of each.\n",
      "200/200 [==============================] - 20s 99ms/step - loss: 0.7744 - accuracy: 0.5150\n",
      " (Number correct, number incorrect, number of tests): ( 106 94 200 ) %Correct:  53.0 %\n",
      "False Positives by label: [ 0. 94.]\n",
      "False Negatives by label: [94.  0.]\n",
      "See   .last_score_accuracy for % accuracy value\n",
      "Training: Batch 2, Epoch 0, 1 entries accuracy of OM core 0.53 and TF 0.515 \n",
      " Learned [1] of label(s) [1] , previously [1. 2.] of each.\n",
      "200/200 [==============================] - 20s 98ms/step - loss: 0.7801 - accuracy: 0.5050\n",
      " (Number correct, number incorrect, number of tests): ( 104 96 200 ) %Correct:  52.0 %\n",
      "False Positives by label: [ 0. 96.]\n",
      "False Negatives by label: [96.  0.]\n",
      "See   .last_score_accuracy for % accuracy value\n",
      "Training: Batch 3, Epoch 0, 1 entries accuracy of OM core 0.52 and TF 0.505 \n",
      " Learned [1] of label(s) [1] , previously [1. 3.] of each.\n",
      "200/200 [==============================] - 20s 98ms/step - loss: 0.7678 - accuracy: 0.5300\n",
      " (Number correct, number incorrect, number of tests): ( 104 96 200 ) %Correct:  52.0 %\n",
      "False Positives by label: [ 0. 96.]\n",
      "False Negatives by label: [96.  0.]\n",
      "See   .last_score_accuracy for % accuracy value\n",
      "Training: Batch 4, Epoch 0, 1 entries accuracy of OM core 0.52 and TF 0.53 \n",
      " Learned [1] of label(s) [1] , previously [1. 4.] of each.\n",
      "200/200 [==============================] - 22s 111ms/step - loss: 0.7774 - accuracy: 0.5050\n",
      " (Number correct, number incorrect, number of tests): ( 104 96 200 ) %Correct:  52.0 %\n",
      "False Positives by label: [ 0. 96.]\n",
      "False Negatives by label: [96.  0.]\n",
      "See   .last_score_accuracy for % accuracy value\n",
      "Training: Batch 5, Epoch 0, 1 entries accuracy of OM core 0.52 and TF 0.505 \n",
      " Learned [1] of label(s) [0] , previously [1. 5.] of each.\n",
      "200/200 [==============================] - 20s 100ms/step - loss: 0.7781 - accuracy: 0.5050\n",
      " (Number correct, number incorrect, number of tests): ( 114 86 200 ) %Correct:  57.0 %\n",
      "False Positives by label: [ 1. 85.]\n",
      "False Negatives by label: [85.  1.]\n",
      "See   .last_score_accuracy for % accuracy value\n",
      "Training: Batch 6, Epoch 0, 1 entries accuracy of OM core 0.57 and TF 0.505 \n",
      " Learned [1] of label(s) [0] , previously [2. 5.] of each.\n",
      "200/200 [==============================] - 19s 97ms/step - loss: 0.7767 - accuracy: 0.5050\n",
      " (Number correct, number incorrect, number of tests): ( 140 60 200 ) %Correct:  70.0 %\n",
      "False Positives by label: [ 4. 56.]\n",
      "False Negatives by label: [56.  4.]\n",
      "See   .last_score_accuracy for % accuracy value\n",
      "Training: Batch 7, Epoch 0, 1 entries accuracy of OM core 0.7 and TF 0.505 \n",
      " Learned [1] of label(s) [1] , previously [3. 5.] of each.\n",
      "200/200 [==============================] - 20s 98ms/step - loss: 0.7768 - accuracy: 0.5050\n",
      " (Number correct, number incorrect, number of tests): ( 136 64 200 ) %Correct:  68.0 %\n",
      "False Positives by label: [ 3. 61.]\n",
      "False Negatives by label: [61.  3.]\n",
      "See   .last_score_accuracy for % accuracy value\n",
      "Training: Batch 8, Epoch 0, 1 entries accuracy of OM core 0.68 and TF 0.505 \n",
      " Learned [1] of label(s) [1] , previously [3. 6.] of each.\n",
      "200/200 [==============================] - 19s 97ms/step - loss: 0.7807 - accuracy: 0.5000\n",
      " (Number correct, number incorrect, number of tests): ( 127 73 200 ) %Correct:  63.5 %\n",
      "False Positives by label: [ 3. 70.]\n",
      "False Negatives by label: [70.  3.]\n",
      "See   .last_score_accuracy for % accuracy value\n",
      "Training: Batch 9, Epoch 0, 1 entries accuracy of OM core 0.635 and TF 0.5 \n",
      " Learned [1] of label(s) [0] , previously [3. 7.] of each.\n",
      "200/200 [==============================] - 20s 97ms/step - loss: 0.7670 - accuracy: 0.5150\n",
      " (Number correct, number incorrect, number of tests): ( 143 57 200 ) %Correct:  71.5 %\n",
      "False Positives by label: [ 5. 52.]\n",
      "False Negatives by label: [52.  5.]\n",
      "See   .last_score_accuracy for % accuracy value\n",
      "Training: Batch 10, Epoch 0, 1 entries accuracy of OM core 0.715 and TF 0.515 \n",
      " Learned [1] of label(s) [1] , previously [4. 7.] of each.\n",
      "200/200 [==============================] - 19s 97ms/step - loss: 0.7841 - accuracy: 0.4950\n",
      " (Number correct, number incorrect, number of tests): ( 143 57 200 ) %Correct:  71.5 %\n",
      "False Positives by label: [ 4. 53.]\n",
      "False Negatives by label: [53.  4.]\n",
      "See   .last_score_accuracy for % accuracy value\n",
      "Training: Batch 11, Epoch 0, 1 entries accuracy of OM core 0.715 and TF 0.495 \n",
      " Learned [1] of label(s) [1] , previously [4. 8.] of each.\n",
      "200/200 [==============================] - 20s 98ms/step - loss: 0.7756 - accuracy: 0.5050\n",
      " (Number correct, number incorrect, number of tests): ( 134 66 200 ) %Correct:  67.0 %\n",
      "False Positives by label: [ 4. 62.]\n",
      "False Negatives by label: [62.  4.]\n",
      "See   .last_score_accuracy for % accuracy value\n",
      "Training: Batch 12, Epoch 0, 1 entries accuracy of OM core 0.67 and TF 0.505 \n",
      " Learned [1] of label(s) [0] , previously [4. 9.] of each.\n",
      "200/200 [==============================] - 19s 97ms/step - loss: 0.7746 - accuracy: 0.5050\n",
      " (Number correct, number incorrect, number of tests): ( 148 52 200 ) %Correct:  74.0 %\n",
      "False Positives by label: [ 8. 44.]\n",
      "False Negatives by label: [44.  8.]\n",
      "See   .last_score_accuracy for % accuracy value\n",
      "Training: Batch 13, Epoch 0, 1 entries accuracy of OM core 0.74 and TF 0.505 \n",
      " Learned [1] of label(s) [0] , previously [5. 9.] of each.\n",
      "200/200 [==============================] - 20s 99ms/step - loss: 0.7691 - accuracy: 0.5200\n",
      " (Number correct, number incorrect, number of tests): ( 162 38 200 ) %Correct:  81.0 %\n",
      "False Positives by label: [ 9. 29.]\n",
      "False Negatives by label: [29.  9.]\n",
      "See   .last_score_accuracy for % accuracy value\n",
      "Training: Batch 14, Epoch 0, 1 entries accuracy of OM core 0.81 and TF 0.52 \n",
      " Learned [1] of label(s) [1] , previously [6. 9.] of each.\n",
      "200/200 [==============================] - 20s 98ms/step - loss: 0.7686 - accuracy: 0.5200\n",
      " (Number correct, number incorrect, number of tests): ( 163 37 200 ) %Correct:  81.5 %\n",
      "False Positives by label: [ 9. 28.]\n",
      "False Negatives by label: [28.  9.]\n",
      "See   .last_score_accuracy for % accuracy value\n",
      "Training: Batch 15, Epoch 0, 1 entries accuracy of OM core 0.815 and TF 0.52 \n",
      " Learned [1] of label(s) [1] , previously [ 6. 10.] of each.\n",
      "200/200 [==============================] - 20s 99ms/step - loss: 0.7679 - accuracy: 0.52000s - loss: 0.7679 - accuracy: 0.52\n",
      " (Number correct, number incorrect, number of tests): ( 161 39 200 ) %Correct:  80.5 %\n",
      "False Positives by label: [ 9. 30.]\n",
      "False Negatives by label: [30.  9.]\n",
      "See   .last_score_accuracy for % accuracy value\n",
      "Training: Batch 16, Epoch 0, 1 entries accuracy of OM core 0.805 and TF 0.52 \n",
      " Learned [1] of label(s) [0] , previously [ 6. 11.] of each.\n",
      "200/200 [==============================] - 20s 100ms/step - loss: 0.7702 - accuracy: 0.5150\n",
      " (Number correct, number incorrect, number of tests): ( 165 35 200 ) %Correct:  82.5 %\n",
      "False Positives by label: [10. 25.]\n",
      "False Negatives by label: [25. 10.]\n",
      "See   .last_score_accuracy for % accuracy value\n",
      "Training: Batch 17, Epoch 0, 1 entries accuracy of OM core 0.825 and TF 0.515 \n",
      " Learned [1] of label(s) [0] , previously [ 7. 11.] of each.\n",
      "200/200 [==============================] - 20s 102ms/step - loss: 0.7672 - accuracy: 0.5200\n",
      " (Number correct, number incorrect, number of tests): ( 169 31 200 ) %Correct:  84.5 %\n",
      "False Positives by label: [13. 18.]\n",
      "False Negatives by label: [18. 13.]\n",
      "See   .last_score_accuracy for % accuracy value\n",
      "Training: Batch 18, Epoch 0, 1 entries accuracy of OM core 0.845 and TF 0.52 \n"
     ]
    },
    {
     "name": "stdout",
     "output_type": "stream",
     "text": [
      " Learned [1] of label(s) [1] , previously [ 8. 11.] of each.\n",
      "200/200 [==============================] - 19s 97ms/step - loss: 0.7770 - accuracy: 0.5100\n",
      " (Number correct, number incorrect, number of tests): ( 168 32 200 ) %Correct:  84.0 %\n",
      "False Positives by label: [13. 19.]\n",
      "False Negatives by label: [19. 13.]\n",
      "See   .last_score_accuracy for % accuracy value\n",
      "Training: Batch 19, Epoch 0, 1 entries accuracy of OM core 0.84 and TF 0.51 \n",
      " Learned [1] of label(s) [1] , previously [ 8. 12.] of each.\n",
      "200/200 [==============================] - 23s 114ms/step - loss: 0.7716 - accuracy: 0.5200\n",
      " (Number correct, number incorrect, number of tests): ( 167 33 200 ) %Correct:  83.5 %\n",
      "False Positives by label: [15. 18.]\n",
      "False Negatives by label: [18. 15.]\n",
      "See   .last_score_accuracy for % accuracy value\n",
      "Training: Batch 20, Epoch 0, 1 entries accuracy of OM core 0.835 and TF 0.52 \n",
      " Learned [1] of label(s) [1] , previously [ 8. 13.] of each.\n",
      "200/200 [==============================] - 20s 100ms/step - loss: 0.7713 - accuracy: 0.5200\n",
      " (Number correct, number incorrect, number of tests): ( 167 33 200 ) %Correct:  83.5 %\n",
      "False Positives by label: [15. 18.]\n",
      "False Negatives by label: [18. 15.]\n",
      "See   .last_score_accuracy for % accuracy value\n",
      "Training: Batch 21, Epoch 0, 1 entries accuracy of OM core 0.835 and TF 0.52 \n",
      " Learned [1] of label(s) [1] , previously [ 8. 14.] of each.\n",
      "200/200 [==============================] - 20s 98ms/step - loss: 0.7713 - accuracy: 0.5150\n",
      " (Number correct, number incorrect, number of tests): ( 170 30 200 ) %Correct:  85.0 %\n",
      "False Positives by label: [11. 19.]\n",
      "False Negatives by label: [19. 11.]\n",
      "See   .last_score_accuracy for % accuracy value\n",
      "Training: Batch 22, Epoch 0, 1 entries accuracy of OM core 0.85 and TF 0.515 \n",
      " Learned [1] of label(s) [1] , previously [ 8. 15.] of each.\n",
      "200/200 [==============================] - 20s 99ms/step - loss: 0.7745 - accuracy: 0.5100\n",
      " (Number correct, number incorrect, number of tests): ( 170 30 200 ) %Correct:  85.0 %\n",
      "False Positives by label: [12. 18.]\n",
      "False Negatives by label: [18. 12.]\n",
      "See   .last_score_accuracy for % accuracy value\n",
      "Training: Batch 23, Epoch 0, 1 entries accuracy of OM core 0.85 and TF 0.51 \n",
      " Learned [1] of label(s) [1] , previously [ 8. 16.] of each.\n",
      "200/200 [==============================] - 20s 98ms/step - loss: 0.7662 - accuracy: 0.5200\n",
      " (Number correct, number incorrect, number of tests): ( 169 31 200 ) %Correct:  84.5 %\n",
      "False Positives by label: [12. 19.]\n",
      "False Negatives by label: [19. 12.]\n",
      "See   .last_score_accuracy for % accuracy value\n",
      "Training: Batch 24, Epoch 0, 1 entries accuracy of OM core 0.845 and TF 0.52 \n",
      " Learned [1] of label(s) [0] , previously [ 8. 17.] of each.\n",
      "200/200 [==============================] - 20s 99ms/step - loss: 0.7751 - accuracy: 0.5200\n",
      " (Number correct, number incorrect, number of tests): ( 173 27 200 ) %Correct:  86.5 %\n",
      "False Positives by label: [ 9. 18.]\n",
      "False Negatives by label: [18.  9.]\n",
      "See   .last_score_accuracy for % accuracy value\n",
      "Training: Batch 25, Epoch 0, 1 entries accuracy of OM core 0.865 and TF 0.52 \n",
      " Learned [1] of label(s) [0] , previously [ 9. 17.] of each.\n",
      "200/200 [==============================] - 20s 98ms/step - loss: 0.7648 - accuracy: 0.5300\n",
      " (Number correct, number incorrect, number of tests): ( 172 28 200 ) %Correct:  86.0 %\n",
      "False Positives by label: [11. 17.]\n",
      "False Negatives by label: [17. 11.]\n",
      "See   .last_score_accuracy for % accuracy value\n",
      "Training: Batch 26, Epoch 0, 1 entries accuracy of OM core 0.86 and TF 0.53 \n",
      " Learned [1] of label(s) [1] , previously [10. 17.] of each.\n",
      "200/200 [==============================] - 20s 100ms/step - loss: 0.7738 - accuracy: 0.5200\n",
      " (Number correct, number incorrect, number of tests): ( 172 28 200 ) %Correct:  86.0 %\n",
      "False Positives by label: [10. 18.]\n",
      "False Negatives by label: [18. 10.]\n",
      "See   .last_score_accuracy for % accuracy value\n",
      "Training: Batch 27, Epoch 0, 1 entries accuracy of OM core 0.86 and TF 0.52 \n",
      " Learned [1] of label(s) [1] , previously [10. 18.] of each.\n",
      "200/200 [==============================] - 21s 103ms/step - loss: 0.7684 - accuracy: 0.5250\n",
      " (Number correct, number incorrect, number of tests): ( 173 27 200 ) %Correct:  86.5 %\n",
      "False Positives by label: [ 9. 18.]\n",
      "False Negatives by label: [18.  9.]\n",
      "See   .last_score_accuracy for % accuracy value\n",
      "Training: Batch 28, Epoch 0, 1 entries accuracy of OM core 0.865 and TF 0.525 \n",
      " Learned [1] of label(s) [0] , previously [10. 19.] of each.\n",
      "200/200 [==============================] - 20s 99ms/step - loss: 0.7630 - accuracy: 0.5300\n",
      " (Number correct, number incorrect, number of tests): ( 175 25 200 ) %Correct:  87.5 %\n",
      "False Positives by label: [ 9. 16.]\n",
      "False Negatives by label: [16.  9.]\n",
      "See   .last_score_accuracy for % accuracy value\n",
      "Training: Batch 29, Epoch 0, 1 entries accuracy of OM core 0.875 and TF 0.53 \n",
      " Learned [1] of label(s) [1] , previously [11. 19.] of each.\n",
      "200/200 [==============================] - 20s 99ms/step - loss: 0.7631 - accuracy: 0.5300\n",
      " (Number correct, number incorrect, number of tests): ( 173 27 200 ) %Correct:  86.5 %\n",
      "False Positives by label: [10. 17.]\n",
      "False Negatives by label: [17. 10.]\n",
      "See   .last_score_accuracy for % accuracy value\n",
      "Training: Batch 30, Epoch 0, 1 entries accuracy of OM core 0.865 and TF 0.53 \n",
      " Learned [1] of label(s) [1] , previously [11. 20.] of each.\n",
      " Learned [1] of label(s) [0] , previously [11. 21.] of each.\n",
      "200/200 [==============================] - 20s 99ms/step - loss: 0.7533 - accuracy: 0.5300\n",
      " (Number correct, number incorrect, number of tests): ( 174 26 200 ) %Correct:  87.0 %\n",
      "False Positives by label: [12. 14.]\n",
      "False Negatives by label: [14. 12.]\n",
      "See   .last_score_accuracy for % accuracy value\n",
      "Training: Batch 32, Epoch 0, 1 entries accuracy of OM core 0.87 and TF 0.53 \n",
      " Learned [1] of label(s) [1] , previously [12. 21.] of each.\n",
      " Learned [1] of label(s) [0] , previously [12. 22.] of each.\n",
      "200/200 [==============================] - 20s 99ms/step - loss: 0.7593 - accuracy: 0.5250\n",
      " (Number correct, number incorrect, number of tests): ( 173 27 200 ) %Correct:  86.5 %\n",
      "False Positives by label: [14. 13.]\n",
      "False Negatives by label: [13. 14.]\n",
      "See   .last_score_accuracy for % accuracy value\n",
      "Training: Batch 34, Epoch 0, 1 entries accuracy of OM core 0.865 and TF 0.525 \n",
      " Learned [1] of label(s) [1] , previously [13. 22.] of each.\n",
      " Learned [1] of label(s) [1] , previously [13. 23.] of each.\n",
      "200/200 [==============================] - 22s 109ms/step - loss: 0.7584 - accuracy: 0.5250\n",
      " (Number correct, number incorrect, number of tests): ( 170 30 200 ) %Correct:  85.0 %\n",
      "False Positives by label: [13. 17.]\n",
      "False Negatives by label: [17. 13.]\n",
      "See   .last_score_accuracy for % accuracy value\n",
      "Training: Batch 36, Epoch 0, 1 entries accuracy of OM core 0.85 and TF 0.525 \n",
      " Learned [1] of label(s) [1] , previously [13. 24.] of each.\n",
      " Learned [1] of label(s) [1] , previously [13. 25.] of each.\n",
      "200/200 [==============================] - 22s 111ms/step - loss: 0.7625 - accuracy: 0.5200\n",
      " (Number correct, number incorrect, number of tests): ( 171 29 200 ) %Correct:  85.5 %\n",
      "False Positives by label: [12. 17.]\n",
      "False Negatives by label: [17. 12.]\n",
      "See   .last_score_accuracy for % accuracy value\n",
      "Training: Batch 38, Epoch 0, 1 entries accuracy of OM core 0.855 and TF 0.52 \n",
      " Learned [1] of label(s) [0] , previously [13. 26.] of each.\n",
      " Learned [1] of label(s) [0] , previously [14. 26.] of each.\n",
      "200/200 [==============================] - 21s 105ms/step - loss: 0.7594 - accuracy: 0.5300\n",
      " (Number correct, number incorrect, number of tests): ( 170 30 200 ) %Correct:  85.0 %\n",
      "False Positives by label: [13. 17.]\n",
      "False Negatives by label: [17. 13.]\n",
      "See   .last_score_accuracy for % accuracy value\n",
      "Training: Batch 40, Epoch 0, 1 entries accuracy of OM core 0.85 and TF 0.53 \n",
      " Learned [1] of label(s) [1] , previously [15. 26.] of each.\n",
      " Learned [1] of label(s) [1] , previously [15. 27.] of each.\n",
      " Learned [1] of label(s) [1] , previously [15. 28.] of each.\n",
      "200/200 [==============================] - 20s 101ms/step - loss: 0.7651 - accuracy: 0.5250\n",
      " (Number correct, number incorrect, number of tests): ( 169 31 200 ) %Correct:  84.5 %\n",
      "False Positives by label: [13. 18.]\n",
      "False Negatives by label: [18. 13.]\n",
      "See   .last_score_accuracy for % accuracy value\n",
      "Training: Batch 43, Epoch 0, 1 entries accuracy of OM core 0.845 and TF 0.525 \n"
     ]
    },
    {
     "name": "stdout",
     "output_type": "stream",
     "text": [
      " Learned [1] of label(s) [0] , previously [15. 29.] of each.\n",
      " Learned [1] of label(s) [1] , previously [16. 29.] of each.\n",
      " Learned [1] of label(s) [1] , previously [16. 30.] of each.\n",
      "200/200 [==============================] - 20s 101ms/step - loss: 0.7641 - accuracy: 0.5250\n",
      " (Number correct, number incorrect, number of tests): ( 169 31 200 ) %Correct:  84.5 %\n",
      "False Positives by label: [14. 17.]\n",
      "False Negatives by label: [17. 14.]\n",
      "See   .last_score_accuracy for % accuracy value\n",
      "Training: Batch 46, Epoch 0, 1 entries accuracy of OM core 0.845 and TF 0.525 \n",
      " Learned [1] of label(s) [1] , previously [16. 31.] of each.\n",
      " Learned [1] of label(s) [0] , previously [16. 32.] of each.\n",
      " Learned [1] of label(s) [0] , previously [17. 32.] of each.\n",
      "200/200 [==============================] - 20s 98ms/step - loss: 0.7593 - accuracy: 0.5300\n",
      " (Number correct, number incorrect, number of tests): ( 169 31 200 ) %Correct:  84.5 %\n",
      "False Positives by label: [15. 16.]\n",
      "False Negatives by label: [16. 15.]\n",
      "See   .last_score_accuracy for % accuracy value\n",
      "Training: Batch 49, Epoch 0, 1 entries accuracy of OM core 0.845 and TF 0.53 \n",
      " Learned [1] of label(s) [1] , previously [18. 32.] of each.\n",
      " Learned [1] of label(s) [1] , previously [18. 33.] of each.\n",
      " Learned [1] of label(s) [1] , previously [18. 34.] of each.\n",
      "200/200 [==============================] - 20s 99ms/step - loss: 0.7612 - accuracy: 0.5250\n",
      " (Number correct, number incorrect, number of tests): ( 171 29 200 ) %Correct:  85.5 %\n",
      "False Positives by label: [14. 15.]\n",
      "False Negatives by label: [15. 14.]\n",
      "See   .last_score_accuracy for % accuracy value\n",
      "Training: Batch 52, Epoch 0, 1 entries accuracy of OM core 0.855 and TF 0.525 \n",
      " Learned [1] of label(s) [1] , previously [18. 35.] of each.\n",
      " Learned [1] of label(s) [0] , previously [18. 36.] of each.\n",
      " Learned [1] of label(s) [0] , previously [19. 36.] of each.\n",
      "200/200 [==============================] - 20s 100ms/step - loss: 0.7555 - accuracy: 0.5250\n",
      " (Number correct, number incorrect, number of tests): ( 170 30 200 ) %Correct:  85.0 %\n",
      "False Positives by label: [15. 15.]\n",
      "False Negatives by label: [15. 15.]\n",
      "See   .last_score_accuracy for % accuracy value\n",
      "Training: Batch 55, Epoch 0, 1 entries accuracy of OM core 0.85 and TF 0.525 \n",
      " Learned [1] of label(s) [1] , previously [20. 36.] of each.\n",
      " Learned [1] of label(s) [1] , previously [20. 37.] of each.\n",
      " Learned [1] of label(s) [0] , previously [20. 38.] of each.\n",
      "200/200 [==============================] - 21s 106ms/step - loss: 0.7569 - accuracy: 0.5200\n",
      " (Number correct, number incorrect, number of tests): ( 171 29 200 ) %Correct:  85.5 %\n",
      "False Positives by label: [15. 14.]\n",
      "False Negatives by label: [14. 15.]\n",
      "See   .last_score_accuracy for % accuracy value\n",
      "Training: Batch 58, Epoch 0, 1 entries accuracy of OM core 0.855 and TF 0.52 \n",
      " Learned [1] of label(s) [1] , previously [21. 38.] of each.\n",
      " Learned [1] of label(s) [1] , previously [21. 39.] of each.\n",
      "200/200 [==============================] - 20s 100ms/step - loss: 0.7581 - accuracy: 0.5200\n",
      " (Number correct, number incorrect, number of tests): ( 172 28 200 ) %Correct:  86.0 %\n",
      "False Positives by label: [13. 15.]\n",
      "False Negatives by label: [15. 13.]\n",
      "See   .last_score_accuracy for % accuracy value\n",
      "Training: Batch 60, Epoch 0, 1 entries accuracy of OM core 0.86 and TF 0.52 \n",
      " Learned [1] of label(s) [0] , previously [21. 40.] of each.\n",
      " Learned [1] of label(s) [0] , previously [22. 40.] of each.\n",
      " Learned [1] of label(s) [0] , previously [23. 40.] of each.\n",
      " Learned [1] of label(s) [1] , previously [24. 40.] of each.\n",
      " Learned [1] of label(s) [0] , previously [24. 41.] of each.\n",
      "200/200 [==============================] - 20s 101ms/step - loss: 0.7447 - accuracy: 0.5350\n",
      " (Number correct, number incorrect, number of tests): ( 171 29 200 ) %Correct:  85.5 %\n",
      "False Positives by label: [14. 15.]\n",
      "False Negatives by label: [15. 14.]\n",
      "See   .last_score_accuracy for % accuracy value\n",
      "Training: Batch 65, Epoch 0, 1 entries accuracy of OM core 0.855 and TF 0.535 \n",
      " Learned [1] of label(s) [0] , previously [25. 41.] of each.\n",
      " Learned [1] of label(s) [0] , previously [26. 41.] of each.\n",
      " Learned [1] of label(s) [1] , previously [27. 41.] of each.\n",
      " Learned [1] of label(s) [0] , previously [27. 42.] of each.\n",
      " Learned [1] of label(s) [1] , previously [28. 42.] of each.\n",
      "200/200 [==============================] - 21s 104ms/step - loss: 0.7432 - accuracy: 0.5250\n",
      " (Number correct, number incorrect, number of tests): ( 174 26 200 ) %Correct:  87.0 %\n",
      "False Positives by label: [11. 15.]\n",
      "False Negatives by label: [15. 11.]\n",
      "See   .last_score_accuracy for % accuracy value\n",
      "Training: Batch 70, Epoch 0, 1 entries accuracy of OM core 0.87 and TF 0.525 \n",
      " Learned [1] of label(s) [1] , previously [28. 43.] of each.\n",
      " Learned [1] of label(s) [1] , previously [28. 44.] of each.\n",
      " Learned [1] of label(s) [0] , previously [28. 45.] of each.\n",
      " Learned [1] of label(s) [1] , previously [29. 45.] of each.\n",
      " Learned [1] of label(s) [0] , previously [29. 46.] of each.\n",
      "200/200 [==============================] - 21s 102ms/step - loss: 0.7394 - accuracy: 0.5250\n",
      " (Number correct, number incorrect, number of tests): ( 172 28 200 ) %Correct:  86.0 %\n",
      "False Positives by label: [12. 16.]\n",
      "False Negatives by label: [16. 12.]\n",
      "See   .last_score_accuracy for % accuracy value\n",
      "Training: Batch 75, Epoch 0, 1 entries accuracy of OM core 0.86 and TF 0.525 \n",
      " Learned [1] of label(s) [1] , previously [30. 46.] of each.\n",
      " Learned [1] of label(s) [0] , previously [30. 47.] of each.\n",
      " Learned [1] of label(s) [0] , previously [31. 47.] of each.\n",
      " Learned [1] of label(s) [0] , previously [32. 47.] of each.\n",
      " Learned [1] of label(s) [1] , previously [33. 47.] of each.\n",
      "200/200 [==============================] - 20s 100ms/step - loss: 0.7365 - accuracy: 0.5250\n",
      " (Number correct, number incorrect, number of tests): ( 172 28 200 ) %Correct:  86.0 %\n",
      "False Positives by label: [12. 16.]\n",
      "False Negatives by label: [16. 12.]\n",
      "See   .last_score_accuracy for % accuracy value\n",
      "Training: Batch 80, Epoch 0, 1 entries accuracy of OM core 0.86 and TF 0.525 \n",
      " Learned [1] of label(s) [1] , previously [33. 48.] of each.\n",
      " Learned [1] of label(s) [1] , previously [33. 49.] of each.\n",
      " Learned [1] of label(s) [1] , previously [33. 50.] of each.\n",
      " Learned [1] of label(s) [1] , previously [33. 51.] of each.\n",
      " Learned [1] of label(s) [1] , previously [33. 52.] of each.\n",
      "200/200 [==============================] - 20s 101ms/step - loss: 0.7243 - accuracy: 0.5350\n",
      " (Number correct, number incorrect, number of tests): ( 174 26 200 ) %Correct:  87.0 %\n",
      "False Positives by label: [11. 15.]\n",
      "False Negatives by label: [15. 11.]\n",
      "See   .last_score_accuracy for % accuracy value\n",
      "Training: Batch 85, Epoch 0, 1 entries accuracy of OM core 0.87 and TF 0.535 \n",
      " Learned [1] of label(s) [1] , previously [33. 53.] of each.\n",
      " Learned [1] of label(s) [1] , previously [33. 54.] of each.\n",
      " Learned [1] of label(s) [0] , previously [33. 55.] of each.\n",
      " Learned [1] of label(s) [0] , previously [34. 55.] of each.\n",
      " Learned [1] of label(s) [0] , previously [35. 55.] of each.\n",
      "200/200 [==============================] - 20s 101ms/step - loss: 0.7243 - accuracy: 0.5350\n",
      " (Number correct, number incorrect, number of tests): ( 174 26 200 ) %Correct:  87.0 %\n",
      "False Positives by label: [ 9. 17.]\n",
      "False Negatives by label: [17.  9.]\n",
      "See   .last_score_accuracy for % accuracy value\n",
      "Training: Batch 90, Epoch 0, 1 entries accuracy of OM core 0.87 and TF 0.535 \n",
      " Learned [1] of label(s) [0] , previously [36. 55.] of each.\n",
      " Learned [1] of label(s) [0] , previously [37. 55.] of each.\n",
      " Learned [1] of label(s) [0] , previously [38. 55.] of each.\n",
      " Learned [1] of label(s) [0] , previously [39. 55.] of each.\n",
      " Learned [1] of label(s) [1] , previously [40. 55.] of each.\n",
      "200/200 [==============================] - 20s 100ms/step - loss: 0.7215 - accuracy: 0.5450\n",
      " (Number correct, number incorrect, number of tests): ( 177 23 200 ) %Correct:  88.5 %\n",
      "False Positives by label: [ 7. 16.]\n",
      "False Negatives by label: [16.  7.]\n",
      "See   .last_score_accuracy for % accuracy value\n",
      "Training: Batch 95, Epoch 0, 1 entries accuracy of OM core 0.885 and TF 0.545 \n",
      " Learned [1] of label(s) [1] , previously [40. 56.] of each.\n",
      " Learned [1] of label(s) [1] , previously [40. 57.] of each.\n"
     ]
    },
    {
     "name": "stdout",
     "output_type": "stream",
     "text": [
      " Learned [1] of label(s) [1] , previously [40. 58.] of each.\n",
      " Learned [1] of label(s) [0] , previously [40. 59.] of each.\n",
      " Learned [1] of label(s) [1] , previously [41. 59.] of each.\n",
      "200/200 [==============================] - 20s 99ms/step - loss: 0.7161 - accuracy: 0.5500\n",
      " (Number correct, number incorrect, number of tests): ( 176 24 200 ) %Correct:  88.0 %\n",
      "False Positives by label: [ 8. 16.]\n",
      "False Negatives by label: [16.  8.]\n",
      "See   .last_score_accuracy for % accuracy value\n",
      "Training: Batch 100, Epoch 0, 1 entries accuracy of OM core 0.88 and TF 0.55 \n",
      " Learned [1] of label(s) [1] , previously [41. 60.] of each.\n",
      " Learned [1] of label(s) [1] , previously [41. 61.] of each.\n",
      " Learned [1] of label(s) [0] , previously [41. 62.] of each.\n",
      " Learned [1] of label(s) [0] , previously [42. 62.] of each.\n",
      " Learned [1] of label(s) [0] , previously [43. 62.] of each.\n",
      " Learned [1] of label(s) [0] , previously [44. 62.] of each.\n",
      " Learned [1] of label(s) [1] , previously [45. 62.] of each.\n",
      "200/200 [==============================] - 20s 100ms/step - loss: 0.7085 - accuracy: 0.5650\n",
      " (Number correct, number incorrect, number of tests): ( 178 22 200 ) %Correct:  89.0 %\n",
      "False Positives by label: [ 7. 15.]\n",
      "False Negatives by label: [15.  7.]\n",
      "See   .last_score_accuracy for % accuracy value\n",
      "Training: Batch 107, Epoch 0, 1 entries accuracy of OM core 0.89 and TF 0.565 \n",
      " Learned [1] of label(s) [0] , previously [45. 63.] of each.\n",
      " Learned [1] of label(s) [0] , previously [46. 63.] of each.\n",
      " Learned [1] of label(s) [1] , previously [47. 63.] of each.\n",
      " Learned [1] of label(s) [1] , previously [47. 64.] of each.\n",
      " Learned [1] of label(s) [1] , previously [47. 65.] of each.\n",
      " Learned [1] of label(s) [1] , previously [47. 66.] of each.\n",
      " Learned [1] of label(s) [1] , previously [47. 67.] of each.\n",
      "200/200 [==============================] - 20s 99ms/step - loss: 0.6956 - accuracy: 0.5700\n",
      " (Number correct, number incorrect, number of tests): ( 178 22 200 ) %Correct:  89.0 %\n",
      "False Positives by label: [ 7. 15.]\n",
      "False Negatives by label: [15.  7.]\n",
      "See   .last_score_accuracy for % accuracy value\n",
      "Training: Batch 114, Epoch 0, 1 entries accuracy of OM core 0.89 and TF 0.57 \n",
      " Learned [1] of label(s) [1] , previously [47. 68.] of each.\n",
      " Learned [1] of label(s) [0] , previously [47. 69.] of each.\n",
      " Learned [1] of label(s) [0] , previously [48. 69.] of each.\n",
      " Learned [1] of label(s) [1] , previously [49. 69.] of each.\n",
      " Learned [1] of label(s) [1] , previously [49. 70.] of each.\n",
      " Learned [1] of label(s) [1] , previously [49. 71.] of each.\n",
      " Learned [1] of label(s) [0] , previously [49. 72.] of each.\n",
      "200/200 [==============================] - 21s 104ms/step - loss: 0.6860 - accuracy: 0.6000\n",
      " (Number correct, number incorrect, number of tests): ( 176 24 200 ) %Correct:  88.0 %\n",
      "False Positives by label: [ 8. 16.]\n",
      "False Negatives by label: [16.  8.]\n",
      "See   .last_score_accuracy for % accuracy value\n",
      "Training: Batch 121, Epoch 0, 1 entries accuracy of OM core 0.88 and TF 0.6 \n",
      " Learned [1] of label(s) [1] , previously [50. 72.] of each.\n",
      " Learned [1] of label(s) [0] , previously [50. 73.] of each.\n",
      " Learned [1] of label(s) [1] , previously [51. 73.] of each.\n",
      " Learned [1] of label(s) [1] , previously [51. 74.] of each.\n",
      " Learned [1] of label(s) [1] , previously [51. 75.] of each.\n",
      " Learned [1] of label(s) [0] , previously [51. 76.] of each.\n",
      " Learned [1] of label(s) [0] , previously [52. 76.] of each.\n",
      "200/200 [==============================] - 20s 100ms/step - loss: 0.6875 - accuracy: 0.5950\n",
      " (Number correct, number incorrect, number of tests): ( 174 26 200 ) %Correct:  87.0 %\n",
      "False Positives by label: [ 9. 17.]\n",
      "False Negatives by label: [17.  9.]\n",
      "See   .last_score_accuracy for % accuracy value\n",
      "Training: Batch 128, Epoch 0, 1 entries accuracy of OM core 0.87 and TF 0.595 \n",
      " Learned [1] of label(s) [0] , previously [53. 76.] of each.\n",
      " Learned [1] of label(s) [0] , previously [54. 76.] of each.\n",
      " Learned [1] of label(s) [0] , previously [55. 76.] of each.\n",
      " Learned [1] of label(s) [0] , previously [56. 76.] of each.\n",
      " Learned [1] of label(s) [0] , previously [57. 76.] of each.\n",
      " Learned [1] of label(s) [1] , previously [58. 76.] of each.\n",
      " Learned [1] of label(s) [1] , previously [58. 77.] of each.\n",
      "200/200 [==============================] - 20s 101ms/step - loss: 0.6805 - accuracy: 0.6050\n",
      " (Number correct, number incorrect, number of tests): ( 179 21 200 ) %Correct:  89.5 %\n",
      "False Positives by label: [ 6. 15.]\n",
      "False Negatives by label: [15.  6.]\n",
      "See   .last_score_accuracy for % accuracy value\n",
      "Training: Batch 135, Epoch 0, 1 entries accuracy of OM core 0.895 and TF 0.605 \n",
      " Learned [1] of label(s) [0] , previously [58. 78.] of each.\n",
      " Learned [1] of label(s) [1] , previously [59. 78.] of each.\n",
      " Learned [1] of label(s) [0] , previously [59. 79.] of each.\n",
      " Learned [1] of label(s) [0] , previously [60. 79.] of each.\n",
      " Learned [1] of label(s) [0] , previously [61. 79.] of each.\n",
      " Learned [1] of label(s) [1] , previously [62. 79.] of each.\n",
      " Learned [1] of label(s) [0] , previously [62. 80.] of each.\n",
      "200/200 [==============================] - 20s 101ms/step - loss: 0.6626 - accuracy: 0.6100\n",
      " (Number correct, number incorrect, number of tests): ( 179 21 200 ) %Correct:  89.5 %\n",
      "False Positives by label: [ 6. 15.]\n",
      "False Negatives by label: [15.  6.]\n",
      "See   .last_score_accuracy for % accuracy value\n",
      "Training: Batch 142, Epoch 0, 1 entries accuracy of OM core 0.895 and TF 0.61 \n",
      " Learned [1] of label(s) [1] , previously [63. 80.] of each.\n",
      " Learned [1] of label(s) [1] , previously [63. 81.] of each.\n",
      " Learned [1] of label(s) [0] , previously [63. 82.] of each.\n",
      " Learned [1] of label(s) [1] , previously [64. 82.] of each.\n",
      " Learned [1] of label(s) [0] , previously [64. 83.] of each.\n",
      " Learned [1] of label(s) [1] , previously [65. 83.] of each.\n",
      " Learned [1] of label(s) [1] , previously [65. 84.] of each.\n",
      "200/200 [==============================] - 20s 102ms/step - loss: 0.6692 - accuracy: 0.6050\n",
      " (Number correct, number incorrect, number of tests): ( 180 20 200 ) %Correct:  90.0 %\n",
      "False Positives by label: [ 6. 14.]\n",
      "False Negatives by label: [14.  6.]\n",
      "See   .last_score_accuracy for % accuracy value\n",
      "Training: Batch 149, Epoch 0, 1 entries accuracy of OM core 0.9 and TF 0.605 \n",
      " Learned [1] of label(s) [1] , previously [65. 85.] of each.\n",
      " Learned [1] of label(s) [0] , previously [65. 86.] of each.\n",
      " Learned [1] of label(s) [0] , previously [66. 86.] of each.\n",
      " Learned [1] of label(s) [1] , previously [67. 86.] of each.\n",
      " Learned [1] of label(s) [1] , previously [67. 87.] of each.\n",
      " Learned [1] of label(s) [0] , previously [67. 88.] of each.\n",
      " Learned [1] of label(s) [1] , previously [68. 88.] of each.\n",
      "200/200 [==============================] - 20s 100ms/step - loss: 0.6621 - accuracy: 0.6050\n",
      " (Number correct, number incorrect, number of tests): ( 179 21 200 ) %Correct:  89.5 %\n",
      "False Positives by label: [ 8. 13.]\n",
      "False Negatives by label: [13.  8.]\n",
      "See   .last_score_accuracy for % accuracy value\n",
      "Training: Batch 156, Epoch 0, 1 entries accuracy of OM core 0.895 and TF 0.605 \n",
      " Learned [1] of label(s) [0] , previously [68. 89.] of each.\n",
      " Learned [1] of label(s) [1] , previously [69. 89.] of each.\n",
      " Learned [1] of label(s) [0] , previously [69. 90.] of each.\n",
      " Learned [1] of label(s) [1] , previously [70. 90.] of each.\n",
      " Learned [1] of label(s) [1] , previously [70. 91.] of each.\n",
      " Learned [1] of label(s) [1] , previously [70. 92.] of each.\n",
      " Learned [1] of label(s) [0] , previously [70. 93.] of each.\n",
      "200/200 [==============================] - 20s 101ms/step - loss: 0.6516 - accuracy: 0.6200\n",
      " (Number correct, number incorrect, number of tests): ( 179 21 200 ) %Correct:  89.5 %\n",
      "False Positives by label: [ 8. 13.]\n",
      "False Negatives by label: [13.  8.]\n",
      "See   .last_score_accuracy for % accuracy value\n",
      "Training: Batch 163, Epoch 0, 1 entries accuracy of OM core 0.895 and TF 0.62 \n",
      " Learned [1] of label(s) [0] , previously [71. 93.] of each.\n",
      " Learned [1] of label(s) [0] , previously [72. 93.] of each.\n",
      " Learned [1] of label(s) [0] , previously [73. 93.] of each.\n",
      " Learned [1] of label(s) [1] , previously [74. 93.] of each.\n",
      " Learned [1] of label(s) [0] , previously [74. 94.] of each.\n",
      " Learned [1] of label(s) [0] , previously [75. 94.] of each.\n",
      " Learned [1] of label(s) [1] , previously [76. 94.] of each.\n"
     ]
    },
    {
     "name": "stdout",
     "output_type": "stream",
     "text": [
      "200/200 [==============================] - 20s 98ms/step - loss: 0.6520 - accuracy: 0.6350\n",
      " (Number correct, number incorrect, number of tests): ( 178 22 200 ) %Correct:  89.0 %\n",
      "False Positives by label: [ 8. 14.]\n",
      "False Negatives by label: [14.  8.]\n",
      "See   .last_score_accuracy for % accuracy value\n",
      "Training: Batch 170, Epoch 0, 1 entries accuracy of OM core 0.89 and TF 0.635 \n",
      " Learned [1] of label(s) [0] , previously [76. 95.] of each.\n",
      " Learned [1] of label(s) [1] , previously [77. 95.] of each.\n",
      " Learned [1] of label(s) [0] , previously [77. 96.] of each.\n",
      " Learned [1] of label(s) [0] , previously [78. 96.] of each.\n",
      " Learned [1] of label(s) [0] , previously [79. 96.] of each.\n",
      " Learned [1] of label(s) [1] , previously [80. 96.] of each.\n",
      " Learned [1] of label(s) [0] , previously [80. 97.] of each.\n",
      "200/200 [==============================] - 20s 101ms/step - loss: 0.6513 - accuracy: 0.6200\n",
      " (Number correct, number incorrect, number of tests): ( 179 21 200 ) %Correct:  89.5 %\n",
      "False Positives by label: [ 8. 13.]\n",
      "False Negatives by label: [13.  8.]\n",
      "See   .last_score_accuracy for % accuracy value\n",
      "Training: Batch 177, Epoch 0, 1 entries accuracy of OM core 0.895 and TF 0.62 \n",
      " Learned [1] of label(s) [0] , previously [81. 97.] of each.\n",
      " Learned [1] of label(s) [1] , previously [82. 97.] of each.\n",
      " Learned [1] of label(s) [1] , previously [82. 98.] of each.\n",
      " Learned [1] of label(s) [1] , previously [82. 99.] of each.\n",
      " Learned [1] of label(s) [1] , previously [ 82. 100.] of each.\n",
      " Learned [1] of label(s) [0] , previously [ 82. 101.] of each.\n",
      " Learned [1] of label(s) [0] , previously [ 83. 101.] of each.\n",
      "200/200 [==============================] - 21s 102ms/step - loss: 0.6493 - accuracy: 0.6150\n",
      " (Number correct, number incorrect, number of tests): ( 180 20 200 ) %Correct:  90.0 %\n",
      "False Positives by label: [ 8. 12.]\n",
      "False Negatives by label: [12.  8.]\n",
      "See   .last_score_accuracy for % accuracy value\n",
      "Training: Batch 184, Epoch 0, 1 entries accuracy of OM core 0.9 and TF 0.615 \n",
      " Learned [1] of label(s) [0] , previously [ 84. 101.] of each.\n",
      " Learned [1] of label(s) [0] , previously [ 85. 101.] of each.\n",
      " Learned [1] of label(s) [1] , previously [ 86. 101.] of each.\n",
      " Learned [1] of label(s) [1] , previously [ 86. 102.] of each.\n",
      " Learned [1] of label(s) [0] , previously [ 86. 103.] of each.\n",
      " Learned [1] of label(s) [1] , previously [ 87. 103.] of each.\n",
      " Learned [1] of label(s) [1] , previously [ 87. 104.] of each.\n",
      "200/200 [==============================] - 20s 100ms/step - loss: 0.6494 - accuracy: 0.6250\n",
      " (Number correct, number incorrect, number of tests): ( 179 21 200 ) %Correct:  89.5 %\n",
      "False Positives by label: [ 8. 13.]\n",
      "False Negatives by label: [13.  8.]\n",
      "See   .last_score_accuracy for % accuracy value\n",
      "Training: Batch 191, Epoch 0, 1 entries accuracy of OM core 0.895 and TF 0.625 \n",
      " Learned [1] of label(s) [1] , previously [ 87. 105.] of each.\n",
      " Learned [1] of label(s) [0] , previously [ 87. 106.] of each.\n",
      " Learned [1] of label(s) [1] , previously [ 88. 106.] of each.\n",
      " Learned [1] of label(s) [1] , previously [ 88. 107.] of each.\n",
      " Learned [1] of label(s) [1] , previously [ 88. 108.] of each.\n",
      " Learned [1] of label(s) [1] , previously [ 88. 109.] of each.\n",
      " Learned [1] of label(s) [1] , previously [ 88. 110.] of each.\n",
      "200/200 [==============================] - 20s 102ms/step - loss: 0.6418 - accuracy: 0.6250\n",
      " (Number correct, number incorrect, number of tests): ( 179 21 200 ) %Correct:  89.5 %\n",
      "False Positives by label: [ 8. 13.]\n",
      "False Negatives by label: [13.  8.]\n",
      "See   .last_score_accuracy for % accuracy value\n",
      "Training: Batch 198, Epoch 0, 1 entries accuracy of OM core 0.895 and TF 0.625 \n",
      " Learned [1] of label(s) [1] , previously [ 88. 111.] of each.\n",
      " Learned [1] of label(s) [1] , previously [ 88. 112.] of each.\n",
      " Learned [1] of label(s) [0] , previously [ 88. 113.] of each.\n",
      " Learned [1] of label(s) [0] , previously [ 89. 113.] of each.\n",
      " Learned [1] of label(s) [0] , previously [ 90. 113.] of each.\n",
      " Learned [1] of label(s) [0] , previously [ 91. 113.] of each.\n",
      " Learned [1] of label(s) [0] , previously [ 92. 113.] of each.\n",
      "200/200 [==============================] - 20s 99ms/step - loss: 0.6280 - accuracy: 0.6550\n",
      " (Number correct, number incorrect, number of tests): ( 179 21 200 ) %Correct:  89.5 %\n",
      "False Positives by label: [ 8. 13.]\n",
      "False Negatives by label: [13.  8.]\n",
      "See   .last_score_accuracy for % accuracy value\n",
      "Training: Batch 205, Epoch 0, 1 entries accuracy of OM core 0.895 and TF 0.655 \n",
      " Learned [1] of label(s) [1] , previously [ 93. 113.] of each.\n",
      " Learned [1] of label(s) [0] , previously [ 93. 114.] of each.\n",
      " Learned [1] of label(s) [0] , previously [ 94. 114.] of each.\n",
      " Learned [1] of label(s) [0] , previously [ 95. 114.] of each.\n",
      " Learned [1] of label(s) [0] , previously [ 96. 114.] of each.\n",
      " Learned [1] of label(s) [1] , previously [ 97. 114.] of each.\n",
      " Learned [1] of label(s) [1] , previously [ 97. 115.] of each.\n",
      "200/200 [==============================] - 21s 107ms/step - loss: 0.6258 - accuracy: 0.6500\n",
      " (Number correct, number incorrect, number of tests): ( 179 21 200 ) %Correct:  89.5 %\n",
      "False Positives by label: [ 8. 13.]\n",
      "False Negatives by label: [13.  8.]\n",
      "See   .last_score_accuracy for % accuracy value\n",
      "Training: Batch 212, Epoch 0, 1 entries accuracy of OM core 0.895 and TF 0.65 \n",
      " Learned [1] of label(s) [1] , previously [ 97. 116.] of each.\n",
      " Learned [1] of label(s) [0] , previously [ 97. 117.] of each.\n",
      " Learned [1] of label(s) [1] , previously [ 98. 117.] of each.\n",
      " Learned [1] of label(s) [1] , previously [ 98. 118.] of each.\n",
      " Learned [1] of label(s) [0] , previously [ 98. 119.] of each.\n",
      " Learned [1] of label(s) [1] , previously [ 99. 119.] of each.\n",
      " Learned [1] of label(s) [0] , previously [ 99. 120.] of each.\n",
      "200/200 [==============================] - 21s 103ms/step - loss: 0.6240 - accuracy: 0.6550\n",
      " (Number correct, number incorrect, number of tests): ( 179 21 200 ) %Correct:  89.5 %\n",
      "False Positives by label: [ 8. 13.]\n",
      "False Negatives by label: [13.  8.]\n",
      "See   .last_score_accuracy for % accuracy value\n",
      "Training: Batch 219, Epoch 0, 1 entries accuracy of OM core 0.895 and TF 0.655 \n",
      " Learned [1] of label(s) [0] , previously [100. 120.] of each.\n",
      " Learned [1] of label(s) [0] , previously [101. 120.] of each.\n",
      " Learned [1] of label(s) [1] , previously [102. 120.] of each.\n",
      " Learned [1] of label(s) [1] , previously [102. 121.] of each.\n",
      " Learned [1] of label(s) [1] , previously [102. 122.] of each.\n",
      " Learned [1] of label(s) [1] , previously [102. 123.] of each.\n",
      " Learned [1] of label(s) [0] , previously [102. 124.] of each.\n",
      "200/200 [==============================] - 22s 110ms/step - loss: 0.6252 - accuracy: 0.6550\n",
      " (Number correct, number incorrect, number of tests): ( 179 21 200 ) %Correct:  89.5 %\n",
      "False Positives by label: [ 8. 13.]\n",
      "False Negatives by label: [13.  8.]\n",
      "See   .last_score_accuracy for % accuracy value\n",
      "Training: Batch 226, Epoch 0, 1 entries accuracy of OM core 0.895 and TF 0.655 \n",
      " Learned [1] of label(s) [1] , previously [103. 124.] of each.\n",
      " Learned [1] of label(s) [0] , previously [103. 125.] of each.\n",
      " Learned [1] of label(s) [1] , previously [104. 125.] of each.\n"
     ]
    }
   ],
   "source": [
    "for j in range(initial_epochs):\n",
    "    if j>0:  #update graph points if doing more than one epoch\n",
    "        validate_points=np.concatenate([np.arange(0,3000,30)])\n",
    "        graph_points[num_stored:]=[]\n",
    "        graph_points=graph_points+list(validate_points.copy()+len(labels_presented)+1)   #need to figure out graphing stuff\n",
    "\n",
    "    for i, data in train_dataset.enumerate():  #seems similar to fit \n",
    "        \n",
    "        labels_presented.append(data[1])  # store record of labels presented\n",
    "        \n",
    "        #t = time.time()\n",
    "        \n",
    "        #the original learning        \n",
    "        batch_logs = orig_TF_paradigm_model.train_step(data)\n",
    "        \n",
    "        #TF_time=time.time() - t\n",
    "\n",
    "        \n",
    "        #t = time.time()      # I include time to percolate data through base.  \n",
    "        \n",
    "        # prepare data to send out to OM.        \n",
    "        net_out = model_with_av_layer.predict_on_batch(data[0])  # run through base layer to have data ready for OM\n",
    "        \n",
    "        # call to the API\n",
    "        OMmodel.learn(net_out,data[1])  # needs data post base and label\n",
    "        \n",
    "        #OM_time=time.time() - t\n",
    "        \n",
    "        #print('Learning Time  OM:',np.round(OM_time,4),'  TF:',np.round(TF_time,4),'  TF/OM=',np.round(TF_time/OM_time,4),'X')\n",
    "        \n",
    "        # this would be equivalent to a callback from the API getting back the weights from the API\n",
    "        # the TF structure recieves the weights that come back put into the trainable layer: OMmodel.ff_model\n",
    "        tf_model_tobe_trained_by_OM.trainable_weights[0].assign(tf.Variable(np.float32(OMmodel.ff_model.T))) \n",
    "        # this is now the TF equivalent of OM learned net \n",
    "        \n",
    "        #this is code to validate but it is repeated in the validated_points\n",
    "        #loss0, accuracy0 = tf_model_tobe_trained_by_OM.evaluate(validation_dataset)  # it can be validated and run just like the original\n",
    "        \n",
    "        \n",
    "        if i in validate_points:  # minimizing number of validations because it takes too long\n",
    "        \n",
    "            # validating TF learned top layer\n",
    "            loss_, accuracy_ = orig_TF_paradigm_model.evaluate(validation_dataset)\n",
    "\n",
    "            # validating directly with OM, This function is not needed in the API, just the tf_model_tobe_trained_by_OM code (a few down)\n",
    "            OMmodel.test_data_score(net_out_validation_for_OM,validation_labels[0,:])  #,verbose=True) \n",
    "                \n",
    "            # adding TF accuracies to the record\n",
    "            tf_learn_Vacc.append(accuracy_)  \n",
    "            \n",
    "            # adding OM  accuracies to the records\n",
    "            OM_learn_Vacc.append(OMmodel.last_score_accuracy/100) # using direct validation\n",
    "\n",
    "            if False:  # extra sanity validation to show OMTF == OM core but extra tests take too much time if you are training the net\n",
    "            \n",
    "                # validating OM learned top layer but equivalent net to TF\n",
    "                loss0, accuracy_OMTF = tf_model_tobe_trained_by_OM.evaluate(validation_dataset)  # it is validated and run just like the original TF\n",
    "                #OM_learn_Vacc.append(accuracy_OMTF)\n",
    "\n",
    "                print(\"Training: Batch {}, Epoch {}, {} entries accuracy of OM core {} OMTF {} (should be roughly equivalent to OM) and TF {} \".format(i,j, len(data[0]), OM_learn_Vacc[-1],accuracy_OMTF,accuracy_))\n",
    "            \n",
    "            else:\n",
    "                print(\"Training: Batch {}, Epoch {}, {} entries accuracy of OM core {} and TF {} \".format(i,j, len(data[0]), np.round(OM_learn_Vacc[-1],4),np.round(accuracy_,4)))\n",
    "\n",
    "        \n",
    "    \n",
    "    num_stored=len(OM_learn_Vacc)\n",
    "    \n",
    "    if False:  # epoch plot not implemented in this version\n",
    "        OM_epoch_Vacc_old[j]=sum(OM_learn_Vacc_old[(j*num_batches_in_train_dataset):((j+1)*num_batches_in_train_dataset)])/num_batches_in_train_dataset\n",
    "        tf_epoch_Vacc_old[j]=sum(tf_learn_Vacc_old[(j*num_batches_in_train_dataset):((j+1)*num_batches_in_train_dataset)])/num_batches_in_train_dataset\n",
    "        print(\"Epoch {} summing {} batches to get epoch accuracy of OM on new {} old {} and TF on new {} old {} data\".format(j,i,OM_epoch_Vacc[j],OM_epoch_Vacc_old[j],tf_learn_Vacc[j],tf_epoch_Vacc_old[j]))\n",
    "\n"
   ]
  },
  {
   "cell_type": "code",
   "execution_count": 51,
   "metadata": {},
   "outputs": [
    {
     "data": {
      "text/plain": [
       "[0.48,\n",
       " 0.635,\n",
       " 0.53,\n",
       " 0.52,\n",
       " 0.52,\n",
       " 0.52,\n",
       " 0.57,\n",
       " 0.7,\n",
       " 0.68,\n",
       " 0.635,\n",
       " 0.715,\n",
       " 0.715,\n",
       " 0.67,\n",
       " 0.74,\n",
       " 0.81,\n",
       " 0.815,\n",
       " 0.805,\n",
       " 0.825,\n",
       " 0.845,\n",
       " 0.84,\n",
       " 0.835,\n",
       " 0.835,\n",
       " 0.85,\n",
       " 0.85,\n",
       " 0.845,\n",
       " 0.865,\n",
       " 0.86,\n",
       " 0.86,\n",
       " 0.865,\n",
       " 0.875,\n",
       " 0.865,\n",
       " 0.87,\n",
       " 0.865,\n",
       " 0.85,\n",
       " 0.855,\n",
       " 0.85,\n",
       " 0.845,\n",
       " 0.845,\n",
       " 0.845,\n",
       " 0.855,\n",
       " 0.85,\n",
       " 0.855,\n",
       " 0.86,\n",
       " 0.855,\n",
       " 0.87,\n",
       " 0.86,\n",
       " 0.86,\n",
       " 0.87,\n",
       " 0.87,\n",
       " 0.885,\n",
       " 0.88,\n",
       " 0.89,\n",
       " 0.89,\n",
       " 0.88,\n",
       " 0.87,\n",
       " 0.895,\n",
       " 0.895,\n",
       " 0.9,\n",
       " 0.895,\n",
       " 0.895,\n",
       " 0.89,\n",
       " 0.895,\n",
       " 0.9,\n",
       " 0.895,\n",
       " 0.895,\n",
       " 0.895,\n",
       " 0.895,\n",
       " 0.895,\n",
       " 0.895]"
      ]
     },
     "execution_count": 51,
     "metadata": {},
     "output_type": "execute_result"
    }
   ],
   "source": [
    "OM_learn_Vacc'"
   ]
  },
  {
   "cell_type": "code",
   "execution_count": 52,
   "metadata": {
    "scrolled": true
   },
   "outputs": [
    {
     "name": "stdout",
     "output_type": "stream",
     "text": [
      "first validation run after all animals were presented: 2 \n",
      "which begins with training instance 2\n"
     ]
    }
   ],
   "source": [
    "# indicate when all animals are presented at least once\n",
    "all_presented=1\n",
    "while len(np.unique(labels_presented[0:all_presented])) != len(np.unique(labels_presented)):\n",
    "    all_presented=all_presented+1\n",
    "all_presented=np.where(np.array(graph_points) >= all_presented)[0][0]   #first index where all presented\n",
    "print('first validation run after all animals were presented:',all_presented,'\\nwhich begins with training instance',graph_points[all_presented])"
   ]
  },
  {
   "cell_type": "code",
   "execution_count": 53,
   "metadata": {},
   "outputs": [
    {
     "name": "stdout",
     "output_type": "stream",
     "text": [
      "3\n"
     ]
    }
   ],
   "source": [
    "grange=int(graph_points[num_stored]*.02)     #90  #31 #90 #121  # choosing a nice zoom range\n",
    "if grange==0:\n",
    "    grange=num_stored\n",
    "maxpoint=max(graph_points[0:grange])\n",
    "print(maxpoint)"
   ]
  },
  {
   "cell_type": "code",
   "execution_count": 54,
   "metadata": {},
   "outputs": [
    {
     "data": {
      "text/plain": [
       "4"
      ]
     },
     "execution_count": 54,
     "metadata": {},
     "output_type": "execute_result"
    }
   ],
   "source": [
    "grange"
   ]
  },
  {
   "cell_type": "code",
   "execution_count": 55,
   "metadata": {},
   "outputs": [
    {
     "name": "stdout",
     "output_type": "stream",
     "text": [
      "first 4 plots\n"
     ]
    },
    {
     "data": {
      "image/png": "[encoded data removed]",
      "text/plain": [
       "<Figure size 576x576 with 1 Axes>"
      ]
     },
     "metadata": {
      "needs_background": "light"
     },
     "output_type": "display_data"
    },
    {
     "name": "stdout",
     "output_type": "stream",
     "text": [
      "Labels   [[0 1 1 1]]\n"
     ]
    }
   ],
   "source": [
    "# zoomed figure\n",
    "print('first',graph_points[grange],'plots')\n",
    "\n",
    "plt.figure(figsize=(8, 8))\n",
    "plt.subplot(2, 1, 1)\n",
    "\n",
    "plt.plot(graph_points[0:(all_presented+1)],OM_learn_Vacc[0:(all_presented+1)],color='darkblue')\n",
    "plt.plot(graph_points[all_presented:grange],OM_learn_Vacc[all_presented:grange],color='cornflowerblue', label='OM Accuracy NEW')\n",
    "plt.plot(graph_points[0:grange],tf_learn_Vacc[0:grange],color='orange', label='TF Accuracy NEW')\n",
    "\n",
    "\n",
    "\n",
    "plt.legend(loc='lower right')\n",
    "plt.ylabel('Validation Accuracy')\n",
    "#plt.ylim([min(plt.ylim()),1])\n",
    "plt.ylim([0.0,1.0])\n",
    "plt.title(\"OM vs TF {} Accuracy within {} Batch={} Example(s) Trained\".format(dataset_name,graph_points[grange],BATCH_SIZE))\n",
    "\n",
    "plt.xlabel('Batch Number')\n",
    "plt.show()\n",
    "print('Labels  ',np.array(labels_presented)[0:grange].T)"
   ]
  },
  {
   "cell_type": "code",
   "execution_count": 56,
   "metadata": {},
   "outputs": [],
   "source": [
    "grange=num_stored"
   ]
  },
  {
   "cell_type": "code",
   "execution_count": 57,
   "metadata": {},
   "outputs": [
    {
     "name": "stdout",
     "output_type": "stream",
     "text": [
      "2980 69 233\n"
     ]
    }
   ],
   "source": [
    "print(max(graph_points),num_stored,graph_points[num_stored])"
   ]
  },
  {
   "cell_type": "code",
   "execution_count": 58,
   "metadata": {
    "scrolled": true
   },
   "outputs": [
    {
     "name": "stdout",
     "output_type": "stream",
     "text": [
      "first 233 plots\n"
     ]
    },
    {
     "data": {
      "image/png": "[encoded data removed]",
      "text/plain": [
       "<Figure size 576x576 with 1 Axes>"
      ]
     },
     "metadata": {
      "needs_background": "light"
     },
     "output_type": "display_data"
    },
    {
     "name": "stdout",
     "output_type": "stream",
     "text": [
      "Labels   [[0 1 1 1 1 1 0 0 1 1 0 1 1 0 0 1 1 0 0 1 1 1 1 1 1 0 0 1 1 0 1 1 0 1 0 1\n",
      "  1 1 1 0 0 1 1 1 0 1 1 1 0 0 1 1 1 1 0 0 1 1 0 1 1 0 0 0 1 0 0 0 1]]\n"
     ]
    }
   ],
   "source": [
    "#unzoomed figure\n",
    "print('first',graph_points[grange],'plots')\n",
    "\n",
    "plt.figure(figsize=(8, 8))\n",
    "plt.subplot(2, 1, 1)\n",
    "#plt.plot(graph_points[0:grange],third_animal_OM_learn_Vacc[0:grange], label='OM Accuracy NEW')\n",
    "#plt.plot(graph_points[0:grange],third_animal_tf_learn_Vacc[0:grange], label='TF Accuracy NEW')\n",
    "\n",
    "plt.plot(graph_points[0:(all_presented+1)],OM_learn_Vacc[0:(all_presented+1)],color='darkblue')\n",
    "plt.plot(graph_points[all_presented:grange],OM_learn_Vacc[all_presented:grange],color='cornflowerblue', label='OM')\n",
    "plt.plot(graph_points[0:grange],tf_learn_Vacc[0:grange],color='orange', label='TF')\n",
    "\n",
    "\n",
    "\n",
    "plt.legend(loc='lower right')\n",
    "plt.ylabel('Validation Accuracy')\n",
    "#plt.ylim([min(plt.ylim()),1])\n",
    "plt.ylim([0.0,1.0])\n",
    "#if ResNEt:\n",
    "#    fname=\"ResNet50\"\n",
    "#else:\n",
    "#    fname=\"MobileNetV2\"\n",
    "\n",
    "plt.title(\"OM vs TF {} {} {} trained total\".format(dataset_name,MODEL,graph_points[grange]))\n",
    "plt.xticks(np.arange(0,graph_points[num_stored]+1,int(graph_points[num_stored]/10)))  # Set label locations.\n",
    "\n",
    "\n",
    "\n",
    "plt.xlabel('Batch Number')\n",
    "plt.show()\n",
    "print('Labels  ',np.array(labels_presented)[0:grange].T)"
   ]
  },
  {
   "cell_type": "code",
   "execution_count": 59,
   "metadata": {},
   "outputs": [
    {
     "data": {
      "text/plain": [
       "(2, 2048)"
      ]
     },
     "execution_count": 59,
     "metadata": {},
     "output_type": "execute_result"
    }
   ],
   "source": [
    "OMmodel.rfn_weights.shape"
   ]
  },
  {
   "cell_type": "code",
   "execution_count": 60,
   "metadata": {},
   "outputs": [],
   "source": [
    "#if ResNEt:\n",
    "#    fname=\"ResNet50_\"+dataset_name\n",
    "#else:\n",
    "#    fname=\"MobileNetV2_\"+dataset_name\n",
    "\n",
    "fname=MODEL+\"_\"+dataset_name\n",
    "np.save(fname, OMmodel.ff_model)\n"
   ]
  },
  {
   "cell_type": "code",
   "execution_count": 61,
   "metadata": {},
   "outputs": [
    {
     "data": {
      "text/plain": [
       "<tf.Variable 'dense/kernel:0' shape=(2048, 2) dtype=float32, numpy=\n",
       "array([[ 0.04259898,  0.01962377],\n",
       "       [ 0.0391567 , -0.05411763],\n",
       "       [ 0.000989  ,  0.00372347],\n",
       "       ...,\n",
       "       [-0.0380608 ,  0.03631028],\n",
       "       [-0.0396256 , -0.03165526],\n",
       "       [-0.0215494 , -0.04053424]], dtype=float32)>"
      ]
     },
     "execution_count": 61,
     "metadata": {},
     "output_type": "execute_result"
    }
   ],
   "source": [
    "orig_TF_paradigm_model.trainable_weights[0]"
   ]
  },
  {
   "cell_type": "code",
   "execution_count": 62,
   "metadata": {},
   "outputs": [],
   "source": [
    "np.save(fname+'_TF',orig_TF_paradigm_model.trainable_weights[0])"
   ]
  },
  {
   "cell_type": "code",
   "execution_count": 63,
   "metadata": {},
   "outputs": [
    {
     "data": {
      "text/plain": [
       "'ResNet50_fowl_data'"
      ]
     },
     "execution_count": 63,
     "metadata": {},
     "output_type": "execute_result"
    }
   ],
   "source": [
    "fname"
   ]
  },
  {
   "cell_type": "code",
   "execution_count": 64,
   "metadata": {},
   "outputs": [
    {
     "data": {
      "text/plain": [
       "array([[ 4.47937422e-05,  2.76027945e-04],\n",
       "       [ 1.96002288e-04,  2.27025607e-04],\n",
       "       [ 7.43085384e-04, -3.08711919e-04],\n",
       "       ...,\n",
       "       [-1.07867107e-04,  3.31566142e-04],\n",
       "       [ 1.43827987e-03, -8.69746551e-04],\n",
       "       [-6.13972461e-05,  2.62284258e-04]])"
      ]
     },
     "execution_count": 64,
     "metadata": {},
     "output_type": "execute_result"
    }
   ],
   "source": [
    "np.load(fname+'.npy').T"
   ]
  },
  {
   "cell_type": "code",
   "execution_count": 65,
   "metadata": {},
   "outputs": [
    {
     "ename": "NameError",
     "evalue": "name 'stop' is not defined",
     "output_type": "error",
     "traceback": [
      "\u001b[1;31m---------------------------------------------------------------------------\u001b[0m",
      "\u001b[1;31mNameError\u001b[0m                                 Traceback (most recent call last)",
      "\u001b[1;32m<ipython-input-65-a308a35d4a30>\u001b[0m in \u001b[0;36m<module>\u001b[1;34m\u001b[0m\n\u001b[1;32m----> 1\u001b[1;33m \u001b[0mstop\u001b[0m\u001b[1;33m-\u001b[0m\u001b[0mhere\u001b[0m\u001b[1;33m\u001b[0m\u001b[1;33m\u001b[0m\u001b[0m\n\u001b[0m",
      "\u001b[1;31mNameError\u001b[0m: name 'stop' is not defined"
     ]
    }
   ],
   "source": [
    "stop-here"
   ]
  },
  {
   "cell_type": "code",
   "execution_count": null,
   "metadata": {},
   "outputs": [],
   "source": [
    "b=np.where(OMmodel.rfn_weights[0]==OMmodel.rfn_weights[1])"
   ]
  },
  {
   "cell_type": "code",
   "execution_count": null,
   "metadata": {},
   "outputs": [],
   "source": [
    "len(b[0])"
   ]
  },
  {
   "cell_type": "code",
   "execution_count": null,
   "metadata": {},
   "outputs": [],
   "source": [
    "from math import isclose\n",
    "num_feat=len(OMmodel.rfn_weights[0,:])"
   ]
  },
  {
   "cell_type": "code",
   "execution_count": null,
   "metadata": {},
   "outputs": [],
   "source": [
    "close_array=np.zeros(num_feat)\n",
    "for k in range(num_feat):\n",
    "    close_array[k]=isclose(OMmodel.rfn_weights[0,k],OMmodel.rfn_weights[1,k], abs_tol=1e-3)\n",
    "np.sum(close_array)"
   ]
  },
  {
   "cell_type": "code",
   "execution_count": null,
   "metadata": {},
   "outputs": [],
   "source": [
    "np.linalg.cond(OMmodel.rfn_weights)"
   ]
  },
  {
   "cell_type": "code",
   "execution_count": null,
   "metadata": {},
   "outputs": [],
   "source": [
    "base_model.layers[1].get_weights()[0].shape"
   ]
  },
  {
   "cell_type": "code",
   "execution_count": null,
   "metadata": {},
   "outputs": [],
   "source": [
    "# save accuracies and TF model for future analysis if needed\n",
    "np.save(\"TF trained using {} batch={} on {}.npy\".format(dataset_name,BATCH_SIZE,date_time),tf_learn_Vacc)\n",
    "np.save(\"OM trained using {} batch={} on {}.npy\".format(dataset_name,BATCH_SIZE,date_time),OM_learn_Vacc)\n",
    "orig_TF_paradigm_model.save(\"orig_TF_paradigm_model trained using {} on {}\".format(dataset_name,date_time))  # automate date\n"
   ]
  },
  {
   "cell_type": "code",
   "execution_count": null,
   "metadata": {},
   "outputs": [],
   "source": [
    "#import logging\n",
    "#import json\n",
    "#from keras_sequential_ascii import sequential_model_to_ascii_printout\n",
    "#import scipy.linalg as scialg\n",
    "#import sympy as sy\n"
   ]
  },
  {
   "cell_type": "code",
   "execution_count": null,
   "metadata": {},
   "outputs": [],
   "source": [
    "#pathfilename = 'wsfile/' + 'explain_for_DeGirum.' + 'lg'  # temp, have much betterin in file omnnbu_no_json\n",
    "#logging.info('pathfilename <> ' + pathfilename)\n"
   ]
  },
  {
   "cell_type": "code",
   "execution_count": null,
   "metadata": {
    "scrolled": false
   },
   "outputs": [],
   "source": [
    "#explain_ff_components(np.array([]),base_model)  "
   ]
  },
  {
   "cell_type": "code",
   "execution_count": null,
   "metadata": {},
   "outputs": [],
   "source": [
    "#pathfilename"
   ]
  },
  {
   "cell_type": "code",
   "execution_count": null,
   "metadata": {},
   "outputs": [],
   "source": [
    "def sanity_report_brief(W,verbose=False):\n",
    "    #print(\"Report on filters without changing anything.\")\n",
    "    #logging.info(\"Report on filters without changing anything.\".format())\n",
    "\n",
    "    Wsum_min=1e-4  #cancels flter\n",
    "    Wsingle_branch_min=1e-6  #cancels branch\n",
    "    \n",
    "\n",
    "    h_filter, w_filter, numim,  n_filters = W.shape  #n_filters is the same as outputs, prints one way shapes another WTF\n",
    "    #numim, n_filters, h_filter, w_filter = W.shape  #wtf figuring order by trial and error\n",
    "    #num_inputs=layer_weights[0].shape[2]  #I believe if I recall correctly... previously: prev.shape[3]  #inputs\n",
    "    #num_outputs=layer_weights[0].shape[3]   #outs\n",
    "    #filter_h=layer_weights[0].shape[0]   #\n",
    "    #filter_w=layer_weights[0].shape[1]   #\n",
    "    \n",
    "    #print('hilter size:',h_filter*w_filter,\"W shape\",W.shape,'WTF why switch n_filters:',n_filters,' numim:',numim)\n",
    "    \n",
    "\n",
    "\n",
    "    #BWW=np.zeros_like(W)  #dont need for report\n",
    "    status=np.ones((n_filters,numim))*h_filter*w_filter   #ishape+2*pad,ishape+2*pad))\n",
    "    remove_input=0\n",
    "    remove_output=0\n",
    "    cancel=0\n",
    "    modify=0\n",
    "    for n in range(n_filters):\n",
    "        for nxt in range(numim):\n",
    "            abs=np.abs(W[:,:,nxt,n])\n",
    "            #abs=np.abs(W[n,nxt,:,:]) also need modify\n",
    "            if np.sum(abs)<1e-4: \n",
    "                #print(\"total sum of filter \",n,nxt,\"is less than 1e-4. Prone to error. Zeroing filter\")\n",
    "                #W[n,nxt,:,:]=0\n",
    "                #BWW[n,nxt,:,:]=0\n",
    "                status[n,nxt]=0\n",
    "                cancel=cancel+1\n",
    "            else:   # everything is zero dont need to go on\n",
    "                if np.min(abs)<Wsingle_branch_min:\n",
    "                    modify=modify+1\n",
    "                    count=0\n",
    "                    for i in range(h_filter):\n",
    "                        for j in range(w_filter):\n",
    "                            if W[i,j,nxt,n]<Wsingle_branch_min:\n",
    "                                #W[n,nxt,:,:]=0\n",
    "                                count=count+1  # number unused in a filter\n",
    "                    if verbose: print(\"Only\",h_filter*w_filter-count,\"/\",h_filter*w_filter,\"weights from Inp\",nxt,\"to Out\",n)\n",
    "                    status[n,nxt]=status[n,nxt]-count  # record number of unused in filter\n",
    "                    #BWW[n,nxt,:,:]=np.linalg.inv(W[n,nxt,:,:]).T\n",
    "                    #print(\"BWW:\") # not for report\n",
    "                    #print(BWW[n,nxt,:,:])\n",
    "                    #print(\"filter:\")\n",
    "                    #print(W[n,nxt,:,:])\n",
    "                #else:\n",
    "                    #BWW[n,nxt,:,:]=np.linalg.inv(W[n,nxt,:,:]).T   #pinv or inv doesnt seem to matter via eyeball comparison\n",
    "        if np.sum(status[n,:])==0 :\n",
    "            if verbose: print(n,\"Output(s) have no input connections at all!\")  #No I to O connections:\n",
    "            remove_output=remove_output+1\n",
    "        else:\n",
    "            if np.sum(status[n,:])<numim :\n",
    "                if verbose: print(\"Used: O\",n,\" by I=\",int(np.sum(status[n,:])),\" out of \",numim)#,status[n,:])\n",
    "    for nxt in range(numim):\n",
    "        if np.sum(status[:,nxt])==0 :\n",
    "            if verbose: print(\"Input field \",nxt,\" no Outputs\")#, status[:,nxt])\n",
    "            remove_input=remove_input+1\n",
    "        else:\n",
    "            if np.sum(status[:,nxt])<n_filters :\n",
    "                if verbose: print(\"I\",nxt,\"O=\",int(np.sum(status[:,nxt])),\"/\",n_filters) #,status[:,nxt])  #logging.info(\"I {} O= {} / {} \".format(nxt,int(np.sum(status[:,nxt])),n_filters))  #\n",
    "    #logging.info\n",
    "    print(\"{} inputs and {} outputs are completely unused: no part of filter gives information.\".format(remove_input,remove_output))\n",
    "    #logging.info\n",
    "    print(\"\\\"unused\\\": {} filters out of {} and {} leftover individual connections.\".format(cancel,n_filters*numim,modify))\n",
    "    #print(\"Consider removing\",cancel,\"connections out of \",n_filters*numim,\"total. Partially modifying\",modify,\"connections\")\n",
    "    #return BWW/h_filter #,W,status\n",
    "    \n",
    "    #print('layer filter connection matrix between inpus and outputs: ',status)\n",
    "\n",
    "    return [remove_input,remove_output,cancel,modify]  #unused: inputs, outputs, filters, individual connections (leftover after filters)\n",
    "\n",
    "def sanity_base(model,verbose=False,start=0,convert=False,Linalg_anal=False):  #method='FFT'\n",
    "\n",
    "    for count,layer in enumerate(model.layers,start=start):\n",
    "        layer_weights=layer.get_weights()\n",
    "        if layer_weights==[]:\n",
    "            config_info=layer.get_config()\n",
    "            #logging.info(\"\\nLayer {} {} has no weights input {} output {}\".format(count,layer.name,prev.shape,output.shape))\n",
    "\n",
    "            print('\\nLayer',count,layer.name,'has no weights') #,'input',prev.shape,'output',output.shape)\n",
    "\n",
    "        else:\n",
    "            print('\\nLayer',count,layer.name,'weights',layer_weights[0].shape)\n",
    "            #logging.info(\"\\nLayer {} {} weights {} input {} output {}\".format(count,layer.name,layer_weights[0].shape,prev.shape,output.shape))  #bias {} #,layer_weights[1].shape\n",
    "\n",
    "            lnl=\"L{}\".format(count)\n",
    "\n",
    "            if len(layer_weights[0].shape)==4:    # 4D         4D               4D        4D          4D\n",
    "                #print('Convolution layer')\n",
    "                #for this application: last two entries are inputs and outputs\n",
    "                num_inputs=layer_weights[0].shape[2]  #I believe if I recall correctly... previously: prev.shape[3]  #inputs\n",
    "                num_outputs=layer_weights[0].shape[3]   #outs\n",
    "                filter_h=layer_weights[0].shape[0]   #\n",
    "                filter_w=layer_weights[0].shape[1]   #\n",
    "\n",
    "                commonname=\"L{}.{}\".format(count,layer.name)\n",
    "                #params[\"dense\"]=False\n",
    "                if Linalg_anal: report_algebra_state(num_inputs*filter_h*filter_w,num_outputs,lnl)\n",
    "                if convert:\n",
    "                    print('converting')\n",
    "                    use_report=sanity_report_brief(np.linalg.pinv(layer_weights[0]))\n",
    "                else:\n",
    "                    use_report=sanity_report_brief(layer_weights[0])\n",
    "                #unused: inputs, outputs, filters, individual connections (leftover after filters)\n",
    "                #print(commonname,layer_weights[0].shape,\n",
    "                print('Unsed: ',use_report)\n",
    "\n",
    "\n",
    "\n",
    "                #print('layer shape',layer_weights[0].shape,'transpose shape',np.transpose(layer_weights[0],(3,2,0,1)).shape)\n",
    "                #logging.info(\"layer shape {} transpose shape {}\".format(layer_weights[0].shape,np.transpose(layer_weights[0],(3,2,0,1)).shape))\n",
    "\n",
    "\n",
    "\n",
    "                #print('layer dilation',layer.dilation_rate[0],layer.strides[0],layer.padding)\n",
    "                # used to be 4d graph_ignored_percent here\n",
    "                #logging.info(\"layer dilation {} {} {}\".format(layer.dilation_rate[0],layer.strides[0],layer.padding))\n",
    "\n",
    "                #index_for_baselines+=1\n",
    "\n",
    "            if len(layer_weights[0].shape)==2:  # Fully Connected    2D    2D    2D   2D\n",
    "                #print('dense layer')\n",
    "                commonname=\"L{}.{}\".format(count,layer.name)\n",
    "                #params[\"dense\"]=True\n",
    "                \n",
    "                if convert:\n",
    "                    W=np.linalg.pinv(layer_weights[0]).T\n",
    "                else:\n",
    "                    W=layer_weights[0]\n",
    "                #params['w']=W\n",
    "                num_inputs,num_outputs=W.shape\n",
    "                if Linalg_anal: report_algebra_state(num_inputs,num_outputs,lnl)\n",
    "\n",
    "                num_feat=len(OMmodel.rfn_weights[0,:])\n",
    "                close_array=np.zeros(num_inputs)\n",
    "                for k in range(num_inputs):\n",
    "                    close_array[k]=isclose(OMmodel.rfn_weights[0,k],OMmodel.rfn_weights[1,k], abs_tol=1e-3)\n",
    "                np.sum(close_array)\n",
    "                \n",
    "                \n",
    "                # convert weights\n",
    "                try:\n",
    "                    cond=np.linalg.cond(W.T)   # this catch execption doesnt work... for example I put nans in matrix there is error but does not except\n",
    "                except:\n",
    "                    #print('Analysis not available')\n",
    "                    logging.info(\"Analysis not available\".format())\n",
    "\n",
    "                if cond>10: logging.info(\"Network has neurons that are poorly distinguished from each other\\nTwo or more outputs may have the same responses {}\".format(np.round(np.linalg.cond(W),2)))\n",
    "                print('Network has neurons that are poorly distinguished from each other\\nTwo or more outputs may have the same responses',np.round(np.linalg.cond(W),2))\n",
    "                mrank=np.linalg.matrix_rank(W.T)\n",
    "                #print('Rank',mrank,'cond',np.round(cond,2))\n",
    "                #logging.info(\"Rank {} cond {}\".format(mrank,np.round(cond,2)))\n",
    "\n",
    "                #params[\"layer_weights\"]=(W)\n",
    "    print(\"Complete\")\n",
    "\n",
    "                \n",
    "                \n",
    "def report_algebra_state(num_outputs,num_inputs,lnl):\n",
    "    commonname=lnl\n",
    "    if num_outputs<num_inputs:\n",
    "        #params[\"description\"]=('Multiple inputs may give the same solution') #'Under-Determined'\n",
    "        commonname=commonname+'U'\n",
    "        explicit=np.arange(0,num_outputs)\n",
    "        implicit=num_outputs-num_inputs #np.arange(num_outputs,num_inputs)\n",
    "        #logging.info(\"{} ignores certain inputs and may have the same output for many inputs \".format(lnl))\n",
    "\n",
    "        print(lnl,'ignores certain inputs and may have the same output for many inputs')\n",
    "\n",
    "    elif num_outputs>num_inputs:   # less likely in convolution\n",
    "        #params[\"description\"]=('Multiple outputs may depend on the same inputs') #'Over-Determined'\n",
    "        commonname=commonname+'O'\n",
    "\n",
    "        print(lnl,'is Over-determined, inputs are 100% analyzed but the outputs must follow the following rules')\n",
    "        #logging.info(\"{}: Inputs are 100% analyzed but the outputs must follow the following rules\".format(lnl))\n",
    "\n",
    "\n",
    "        explicit=np.arange(0,num_outputs)\n",
    "        implicit=False  #np.arange(num_outputs,num_inputs)\n",
    "\n",
    "    elif num_outputs==num_inputs:\n",
    "        #params[\"description\"]=('Each input leads to a single output') #'Determined'\n",
    "        print(lnl,'is completely determined: one input X possible for each output where inputs are 100% analyzed')\n",
    "        #logging.info(\"{}: one input X leads to one output and inputs are 100% analyzed\".format(lnl))\n",
    "\n",
    "        explicit=np.arange(0,num_outputs)\n",
    "        implicit=False  #np.arange(num_outputs,num_inputs)\n"
   ]
  },
  {
   "cell_type": "code",
   "execution_count": null,
   "metadata": {},
   "outputs": [],
   "source": [
    "sanity_base(base_model,convert=False)"
   ]
  },
  {
   "cell_type": "code",
   "execution_count": null,
   "metadata": {},
   "outputs": [],
   "source": [
    "# layer 1: 7 outputs unused out of 32\n",
    "# layer 7: 7 inputs out of 32\n",
    "# 98: 1 out of 576\n",
    "# layer after also 1"
   ]
  }
 ],
 "metadata": {
  "kernelspec": {
   "display_name": "Python 3",
   "language": "python",
   "name": "python3"
  },
  "language_info": {
   "codemirror_mode": {
    "name": "ipython",
    "version": 3
   },
   "file_extension": ".py",
   "mimetype": "text/x-python",
   "name": "python",
   "nbconvert_exporter": "python",
   "pygments_lexer": "ipython3",
   "version": "3.6.8"
  }
 },
 "nbformat": 4,
 "nbformat_minor": 4
}
